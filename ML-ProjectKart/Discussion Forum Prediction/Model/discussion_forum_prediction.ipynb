{
 "cells": [
  {
   "cell_type": "markdown",
   "id": "a3440090",
   "metadata": {
    "execution": {
     "iopub.execute_input": "2021-08-07T15:53:56.921868Z",
     "iopub.status.busy": "2021-08-07T15:53:56.921453Z",
     "iopub.status.idle": "2021-08-07T15:53:56.928422Z",
     "shell.execute_reply": "2021-08-07T15:53:56.927054Z",
     "shell.execute_reply.started": "2021-08-07T15:53:56.921836Z"
    },
    "papermill": {
     "duration": 0.038165,
     "end_time": "2021-08-07T16:52:27.974662",
     "exception": false,
     "start_time": "2021-08-07T16:52:27.936497",
     "status": "completed"
    },
    "tags": []
   },
   "source": [
    "# Discussion Forum Prediction"
   ]
  },
  {
   "cell_type": "markdown",
   "id": "31f6e69f",
   "metadata": {
    "papermill": {
     "duration": 0.039078,
     "end_time": "2021-08-07T16:52:28.053300",
     "exception": false,
     "start_time": "2021-08-07T16:52:28.014222",
     "status": "completed"
    },
    "tags": []
   },
   "source": [
    "# IMPORTING THE LIBRARIES"
   ]
  },
  {
   "cell_type": "code",
   "execution_count": 1,
   "id": "0ee23422",
   "metadata": {
    "execution": {
     "iopub.execute_input": "2021-08-07T16:52:28.139263Z",
     "iopub.status.busy": "2021-08-07T16:52:28.138673Z",
     "iopub.status.idle": "2021-08-07T16:52:29.113340Z",
     "shell.execute_reply": "2021-08-07T16:52:29.112494Z",
     "shell.execute_reply.started": "2021-08-07T15:57:19.356344Z"
    },
    "papermill": {
     "duration": 1.022606,
     "end_time": "2021-08-07T16:52:29.113508",
     "exception": false,
     "start_time": "2021-08-07T16:52:28.090902",
     "status": "completed"
    },
    "tags": []
   },
   "outputs": [],
   "source": [
    "import numpy as np\n",
    "import pandas as pd\n",
    "import matplotlib.pyplot as plt\n",
    "import seaborn as sns\n",
    "import os\n",
    "import scipy as sp\n",
    "import string\n",
    "import warnings\n",
    "warnings.filterwarnings(\"ignore\")\n",
    "%matplotlib inline\n"
   ]
  },
  {
   "cell_type": "markdown",
   "id": "99a1dc71",
   "metadata": {
    "papermill": {
     "duration": 0.038899,
     "end_time": "2021-08-07T16:52:29.192482",
     "exception": false,
     "start_time": "2021-08-07T16:52:29.153583",
     "status": "completed"
    },
    "tags": []
   },
   "source": [
    "# LOADING THE DATASET"
   ]
  },
  {
   "cell_type": "code",
   "execution_count": 2,
   "id": "84983b9a",
   "metadata": {
    "execution": {
     "iopub.execute_input": "2021-08-07T16:52:29.276117Z",
     "iopub.status.busy": "2021-08-07T16:52:29.275510Z",
     "iopub.status.idle": "2021-08-07T16:52:29.312788Z",
     "shell.execute_reply": "2021-08-07T16:52:29.313682Z",
     "shell.execute_reply.started": "2021-08-07T15:57:19.367572Z"
    },
    "papermill": {
     "duration": 0.078169,
     "end_time": "2021-08-07T16:52:29.313961",
     "exception": false,
     "start_time": "2021-08-07T16:52:29.235792",
     "status": "completed"
    },
    "tags": []
   },
   "outputs": [],
   "source": [
    "#reading data\n",
    "data=pd.read_csv(\"../input/twitter-and-reddit-sentimental-analysis-dataset/Reddit_Data.csv\",nrows=1000)\n",
    "\n"
   ]
  },
  {
   "cell_type": "code",
   "execution_count": 3,
   "id": "d19e24da",
   "metadata": {
    "execution": {
     "iopub.execute_input": "2021-08-07T16:52:29.412563Z",
     "iopub.status.busy": "2021-08-07T16:52:29.411897Z",
     "iopub.status.idle": "2021-08-07T16:52:29.433685Z",
     "shell.execute_reply": "2021-08-07T16:52:29.433175Z",
     "shell.execute_reply.started": "2021-08-07T15:57:19.42028Z"
    },
    "papermill": {
     "duration": 0.06832,
     "end_time": "2021-08-07T16:52:29.433822",
     "exception": false,
     "start_time": "2021-08-07T16:52:29.365502",
     "status": "completed"
    },
    "tags": []
   },
   "outputs": [
    {
     "data": {
      "text/html": [
       "<div>\n",
       "<style scoped>\n",
       "    .dataframe tbody tr th:only-of-type {\n",
       "        vertical-align: middle;\n",
       "    }\n",
       "\n",
       "    .dataframe tbody tr th {\n",
       "        vertical-align: top;\n",
       "    }\n",
       "\n",
       "    .dataframe thead th {\n",
       "        text-align: right;\n",
       "    }\n",
       "</style>\n",
       "<table border=\"1\" class=\"dataframe\">\n",
       "  <thead>\n",
       "    <tr style=\"text-align: right;\">\n",
       "      <th></th>\n",
       "      <th>clean_comment</th>\n",
       "      <th>category</th>\n",
       "    </tr>\n",
       "  </thead>\n",
       "  <tbody>\n",
       "    <tr>\n",
       "      <th>0</th>\n",
       "      <td>family mormon have never tried explain them t...</td>\n",
       "      <td>1</td>\n",
       "    </tr>\n",
       "    <tr>\n",
       "      <th>1</th>\n",
       "      <td>buddhism has very much lot compatible with chr...</td>\n",
       "      <td>1</td>\n",
       "    </tr>\n",
       "    <tr>\n",
       "      <th>2</th>\n",
       "      <td>seriously don say thing first all they won get...</td>\n",
       "      <td>-1</td>\n",
       "    </tr>\n",
       "    <tr>\n",
       "      <th>3</th>\n",
       "      <td>what you have learned yours and only yours wha...</td>\n",
       "      <td>0</td>\n",
       "    </tr>\n",
       "    <tr>\n",
       "      <th>4</th>\n",
       "      <td>for your own benefit you may want read living ...</td>\n",
       "      <td>1</td>\n",
       "    </tr>\n",
       "    <tr>\n",
       "      <th>...</th>\n",
       "      <td>...</td>\n",
       "      <td>...</td>\n",
       "    </tr>\n",
       "    <tr>\n",
       "      <th>995</th>\n",
       "      <td>vote for government rather than candidate the ...</td>\n",
       "      <td>-1</td>\n",
       "    </tr>\n",
       "    <tr>\n",
       "      <th>996</th>\n",
       "      <td>going vote for modiji and hope you guys would...</td>\n",
       "      <td>0</td>\n",
       "    </tr>\n",
       "    <tr>\n",
       "      <th>997</th>\n",
       "      <td>tharoor case national importance with the ment...</td>\n",
       "      <td>-1</td>\n",
       "    </tr>\n",
       "    <tr>\n",
       "      <th>998</th>\n",
       "      <td>can someone the media investigate who raga hum...</td>\n",
       "      <td>-1</td>\n",
       "    </tr>\n",
       "    <tr>\n",
       "      <th>999</th>\n",
       "      <td>everytime she the twitter person writes were ...</td>\n",
       "      <td>1</td>\n",
       "    </tr>\n",
       "  </tbody>\n",
       "</table>\n",
       "<p>1000 rows × 2 columns</p>\n",
       "</div>"
      ],
      "text/plain": [
       "                                         clean_comment  category\n",
       "0     family mormon have never tried explain them t...         1\n",
       "1    buddhism has very much lot compatible with chr...         1\n",
       "2    seriously don say thing first all they won get...        -1\n",
       "3    what you have learned yours and only yours wha...         0\n",
       "4    for your own benefit you may want read living ...         1\n",
       "..                                                 ...       ...\n",
       "995  vote for government rather than candidate the ...        -1\n",
       "996   going vote for modiji and hope you guys would...         0\n",
       "997  tharoor case national importance with the ment...        -1\n",
       "998  can someone the media investigate who raga hum...        -1\n",
       "999   everytime she the twitter person writes were ...         1\n",
       "\n",
       "[1000 rows x 2 columns]"
      ]
     },
     "execution_count": 3,
     "metadata": {},
     "output_type": "execute_result"
    }
   ],
   "source": [
    "data"
   ]
  },
  {
   "cell_type": "code",
   "execution_count": 4,
   "id": "0bd15120",
   "metadata": {
    "execution": {
     "iopub.execute_input": "2021-08-07T16:52:29.519635Z",
     "iopub.status.busy": "2021-08-07T16:52:29.519035Z",
     "iopub.status.idle": "2021-08-07T16:52:29.522843Z",
     "shell.execute_reply": "2021-08-07T16:52:29.523289Z",
     "shell.execute_reply.started": "2021-08-07T15:57:19.449921Z"
    },
    "papermill": {
     "duration": 0.050748,
     "end_time": "2021-08-07T16:52:29.523471",
     "exception": false,
     "start_time": "2021-08-07T16:52:29.472723",
     "status": "completed"
    },
    "tags": []
   },
   "outputs": [
    {
     "data": {
      "text/html": [
       "<div>\n",
       "<style scoped>\n",
       "    .dataframe tbody tr th:only-of-type {\n",
       "        vertical-align: middle;\n",
       "    }\n",
       "\n",
       "    .dataframe tbody tr th {\n",
       "        vertical-align: top;\n",
       "    }\n",
       "\n",
       "    .dataframe thead th {\n",
       "        text-align: right;\n",
       "    }\n",
       "</style>\n",
       "<table border=\"1\" class=\"dataframe\">\n",
       "  <thead>\n",
       "    <tr style=\"text-align: right;\">\n",
       "      <th></th>\n",
       "      <th>clean_comment</th>\n",
       "      <th>category</th>\n",
       "    </tr>\n",
       "  </thead>\n",
       "  <tbody>\n",
       "    <tr>\n",
       "      <th>0</th>\n",
       "      <td>family mormon have never tried explain them t...</td>\n",
       "      <td>1</td>\n",
       "    </tr>\n",
       "    <tr>\n",
       "      <th>1</th>\n",
       "      <td>buddhism has very much lot compatible with chr...</td>\n",
       "      <td>1</td>\n",
       "    </tr>\n",
       "    <tr>\n",
       "      <th>2</th>\n",
       "      <td>seriously don say thing first all they won get...</td>\n",
       "      <td>-1</td>\n",
       "    </tr>\n",
       "    <tr>\n",
       "      <th>3</th>\n",
       "      <td>what you have learned yours and only yours wha...</td>\n",
       "      <td>0</td>\n",
       "    </tr>\n",
       "    <tr>\n",
       "      <th>4</th>\n",
       "      <td>for your own benefit you may want read living ...</td>\n",
       "      <td>1</td>\n",
       "    </tr>\n",
       "  </tbody>\n",
       "</table>\n",
       "</div>"
      ],
      "text/plain": [
       "                                       clean_comment  category\n",
       "0   family mormon have never tried explain them t...         1\n",
       "1  buddhism has very much lot compatible with chr...         1\n",
       "2  seriously don say thing first all they won get...        -1\n",
       "3  what you have learned yours and only yours wha...         0\n",
       "4  for your own benefit you may want read living ...         1"
      ]
     },
     "execution_count": 4,
     "metadata": {},
     "output_type": "execute_result"
    }
   ],
   "source": [
    "data.head()"
   ]
  },
  {
   "cell_type": "code",
   "execution_count": 5,
   "id": "7972e111",
   "metadata": {
    "execution": {
     "iopub.execute_input": "2021-08-07T16:52:29.611062Z",
     "iopub.status.busy": "2021-08-07T16:52:29.608212Z",
     "iopub.status.idle": "2021-08-07T16:52:29.623317Z",
     "shell.execute_reply": "2021-08-07T16:52:29.623724Z",
     "shell.execute_reply.started": "2021-08-07T15:57:19.461047Z"
    },
    "papermill": {
     "duration": 0.061997,
     "end_time": "2021-08-07T16:52:29.623891",
     "exception": false,
     "start_time": "2021-08-07T16:52:29.561894",
     "status": "completed"
    },
    "tags": []
   },
   "outputs": [
    {
     "data": {
      "text/plain": [
       "clean_comment                                                                                                                                                                                                                                                                                                                                                                                                                                                                                                                                                             category\n",
       "                                                                                                                                                                                                                                                                                                                                                                                                                                                                                                                                                                           0          4\n",
       " aurum mom                                                                                                                                                                                                                                                                                                                                                                                                                                                                                                                                                                 0          2\n",
       "modi ringtone mitron                                                                                                                                                                                                                                                                                                                                                                                                                                                                                                                                                       0          1\n",
       "modi very divisive leader you want listen the secular sickular people the country thought they forgot how spell are dyslexic they have misspelled the word divisive what they actually mean decisive and that exactly the kind leader need all the media cbi bureaucrats doesn want this change they have gotten used the lollipops they are handed out and know modi comes they will get reprimanded and get grounded politicians fear they might also get some good good old school spanking too for their past deeds and spanking mean going jail legal implications    1          1\n",
       "modi4pm had just for commenter gold mods wtf                                                                                                                                                                                                                                                                                                                                                                                                                                                                                                                              -1          1\n",
       "                                                                                                                                                                                                                                                                                                                                                                                                                                                                                                                                                                                     ..\n",
       "according this nbc chicago article walsh holds ladies week 169189026 html here what they have say about joe walsh unless you’ conservative suburban white male over rep joe walsh tea party ill has said something offend you walsh’ rhetoric has been caricature the image republicans party devoted only old white guys                                                                                                                                                                                                                                                 -1          1\n",
       "aeee mere watan kaee logoo … zaraa aankh mein bharr loo paani …                                                                                                                                                                                                                                                                                                                                                                                                                                                                                                           -1          1\n",
       "after seeing this uvjx3kwoehw video seems anything possible with the congress party                                                                                                                                                                                                                                                                                                                                                                                                                                                                                        0          1\n",
       "after the indonesia performance and now this rout against vietnam feel really confident about our chances this season giroud looks good that wouldn mind don sign striker                                                                                                                                                                                                                                                                                                                                                                                                  1          1\n",
       "• • • • ⌐■ ■ ⌐■ ■ deal with                                                                                                                                                                                                                                                                                                                                                                                                                                                                                                                                                0          1\n",
       "Length: 994, dtype: int64"
      ]
     },
     "execution_count": 5,
     "metadata": {},
     "output_type": "execute_result"
    }
   ],
   "source": [
    "data.value_counts()"
   ]
  },
  {
   "cell_type": "code",
   "execution_count": 6,
   "id": "75c45c7a",
   "metadata": {
    "execution": {
     "iopub.execute_input": "2021-08-07T16:52:29.709670Z",
     "iopub.status.busy": "2021-08-07T16:52:29.704577Z",
     "iopub.status.idle": "2021-08-07T16:52:29.722543Z",
     "shell.execute_reply": "2021-08-07T16:52:29.721912Z",
     "shell.execute_reply.started": "2021-08-07T15:57:19.493436Z"
    },
    "papermill": {
     "duration": 0.060109,
     "end_time": "2021-08-07T16:52:29.722683",
     "exception": false,
     "start_time": "2021-08-07T16:52:29.662574",
     "status": "completed"
    },
    "tags": []
   },
   "outputs": [
    {
     "data": {
      "text/html": [
       "<div>\n",
       "<style scoped>\n",
       "    .dataframe tbody tr th:only-of-type {\n",
       "        vertical-align: middle;\n",
       "    }\n",
       "\n",
       "    .dataframe tbody tr th {\n",
       "        vertical-align: top;\n",
       "    }\n",
       "\n",
       "    .dataframe thead th {\n",
       "        text-align: right;\n",
       "    }\n",
       "</style>\n",
       "<table border=\"1\" class=\"dataframe\">\n",
       "  <thead>\n",
       "    <tr style=\"text-align: right;\">\n",
       "      <th></th>\n",
       "      <th>category</th>\n",
       "    </tr>\n",
       "  </thead>\n",
       "  <tbody>\n",
       "    <tr>\n",
       "      <th>count</th>\n",
       "      <td>1000.000000</td>\n",
       "    </tr>\n",
       "    <tr>\n",
       "      <th>mean</th>\n",
       "      <td>0.289000</td>\n",
       "    </tr>\n",
       "    <tr>\n",
       "      <th>std</th>\n",
       "      <td>0.786192</td>\n",
       "    </tr>\n",
       "    <tr>\n",
       "      <th>min</th>\n",
       "      <td>-1.000000</td>\n",
       "    </tr>\n",
       "    <tr>\n",
       "      <th>25%</th>\n",
       "      <td>0.000000</td>\n",
       "    </tr>\n",
       "    <tr>\n",
       "      <th>50%</th>\n",
       "      <td>0.000000</td>\n",
       "    </tr>\n",
       "    <tr>\n",
       "      <th>75%</th>\n",
       "      <td>1.000000</td>\n",
       "    </tr>\n",
       "    <tr>\n",
       "      <th>max</th>\n",
       "      <td>1.000000</td>\n",
       "    </tr>\n",
       "  </tbody>\n",
       "</table>\n",
       "</div>"
      ],
      "text/plain": [
       "          category\n",
       "count  1000.000000\n",
       "mean      0.289000\n",
       "std       0.786192\n",
       "min      -1.000000\n",
       "25%       0.000000\n",
       "50%       0.000000\n",
       "75%       1.000000\n",
       "max       1.000000"
      ]
     },
     "execution_count": 6,
     "metadata": {},
     "output_type": "execute_result"
    }
   ],
   "source": [
    "data.describe()"
   ]
  },
  {
   "cell_type": "code",
   "execution_count": 7,
   "id": "109d6282",
   "metadata": {
    "execution": {
     "iopub.execute_input": "2021-08-07T16:52:29.819553Z",
     "iopub.status.busy": "2021-08-07T16:52:29.818727Z",
     "iopub.status.idle": "2021-08-07T16:52:29.822776Z",
     "shell.execute_reply": "2021-08-07T16:52:29.822294Z",
     "shell.execute_reply.started": "2021-08-07T15:57:19.515259Z"
    },
    "papermill": {
     "duration": 0.05959,
     "end_time": "2021-08-07T16:52:29.822921",
     "exception": false,
     "start_time": "2021-08-07T16:52:29.763331",
     "status": "completed"
    },
    "tags": []
   },
   "outputs": [
    {
     "data": {
      "text/plain": [
       "Index(['clean_comment', 'category'], dtype='object')"
      ]
     },
     "execution_count": 7,
     "metadata": {},
     "output_type": "execute_result"
    }
   ],
   "source": [
    "data.columns"
   ]
  },
  {
   "cell_type": "code",
   "execution_count": 8,
   "id": "b0a36490",
   "metadata": {
    "execution": {
     "iopub.execute_input": "2021-08-07T16:52:29.924112Z",
     "iopub.status.busy": "2021-08-07T16:52:29.923208Z",
     "iopub.status.idle": "2021-08-07T16:52:29.927484Z",
     "shell.execute_reply": "2021-08-07T16:52:29.926966Z",
     "shell.execute_reply.started": "2021-08-07T15:57:19.524943Z"
    },
    "papermill": {
     "duration": 0.064503,
     "end_time": "2021-08-07T16:52:29.927618",
     "exception": false,
     "start_time": "2021-08-07T16:52:29.863115",
     "status": "completed"
    },
    "tags": []
   },
   "outputs": [
    {
     "data": {
      "text/html": [
       "<div>\n",
       "<style scoped>\n",
       "    .dataframe tbody tr th:only-of-type {\n",
       "        vertical-align: middle;\n",
       "    }\n",
       "\n",
       "    .dataframe tbody tr th {\n",
       "        vertical-align: top;\n",
       "    }\n",
       "\n",
       "    .dataframe thead th {\n",
       "        text-align: right;\n",
       "    }\n",
       "</style>\n",
       "<table border=\"1\" class=\"dataframe\">\n",
       "  <thead>\n",
       "    <tr style=\"text-align: right;\">\n",
       "      <th></th>\n",
       "      <th>count</th>\n",
       "      <th>mean</th>\n",
       "      <th>std</th>\n",
       "      <th>min</th>\n",
       "      <th>25%</th>\n",
       "      <th>50%</th>\n",
       "      <th>75%</th>\n",
       "      <th>max</th>\n",
       "    </tr>\n",
       "  </thead>\n",
       "  <tbody>\n",
       "    <tr>\n",
       "      <th>category</th>\n",
       "      <td>1000.0</td>\n",
       "      <td>0.289</td>\n",
       "      <td>0.786192</td>\n",
       "      <td>-1.0</td>\n",
       "      <td>0.0</td>\n",
       "      <td>0.0</td>\n",
       "      <td>1.0</td>\n",
       "      <td>1.0</td>\n",
       "    </tr>\n",
       "  </tbody>\n",
       "</table>\n",
       "</div>"
      ],
      "text/plain": [
       "           count   mean       std  min  25%  50%  75%  max\n",
       "category  1000.0  0.289  0.786192 -1.0  0.0  0.0  1.0  1.0"
      ]
     },
     "execution_count": 8,
     "metadata": {},
     "output_type": "execute_result"
    }
   ],
   "source": [
    "data.describe().transpose()"
   ]
  },
  {
   "cell_type": "code",
   "execution_count": 9,
   "id": "342e7780",
   "metadata": {
    "execution": {
     "iopub.execute_input": "2021-08-07T16:52:30.015519Z",
     "iopub.status.busy": "2021-08-07T16:52:30.014840Z",
     "iopub.status.idle": "2021-08-07T16:52:30.018048Z",
     "shell.execute_reply": "2021-08-07T16:52:30.017474Z",
     "shell.execute_reply.started": "2021-08-07T15:57:19.551855Z"
    },
    "papermill": {
     "duration": 0.049945,
     "end_time": "2021-08-07T16:52:30.018182",
     "exception": false,
     "start_time": "2021-08-07T16:52:29.968237",
     "status": "completed"
    },
    "tags": []
   },
   "outputs": [
    {
     "data": {
      "text/plain": [
       "clean_comment    2\n",
       "category         0\n",
       "dtype: int64"
      ]
     },
     "execution_count": 9,
     "metadata": {},
     "output_type": "execute_result"
    }
   ],
   "source": [
    "data.isnull().sum()"
   ]
  },
  {
   "cell_type": "code",
   "execution_count": 10,
   "id": "e359502d",
   "metadata": {
    "execution": {
     "iopub.execute_input": "2021-08-07T16:52:30.105415Z",
     "iopub.status.busy": "2021-08-07T16:52:30.104794Z",
     "iopub.status.idle": "2021-08-07T16:52:30.127499Z",
     "shell.execute_reply": "2021-08-07T16:52:30.126892Z",
     "shell.execute_reply.started": "2021-08-07T16:00:50.545136Z"
    },
    "papermill": {
     "duration": 0.069834,
     "end_time": "2021-08-07T16:52:30.127644",
     "exception": false,
     "start_time": "2021-08-07T16:52:30.057810",
     "status": "completed"
    },
    "tags": []
   },
   "outputs": [],
   "source": [
    "data.dropna(axis = 0, inplace = True)"
   ]
  },
  {
   "cell_type": "code",
   "execution_count": 11,
   "id": "2aba3273",
   "metadata": {
    "execution": {
     "iopub.execute_input": "2021-08-07T16:52:30.212153Z",
     "iopub.status.busy": "2021-08-07T16:52:30.211534Z",
     "iopub.status.idle": "2021-08-07T16:52:30.214090Z",
     "shell.execute_reply": "2021-08-07T16:52:30.213628Z",
     "shell.execute_reply.started": "2021-08-07T16:49:47.454163Z"
    },
    "papermill": {
     "duration": 0.046531,
     "end_time": "2021-08-07T16:52:30.214227",
     "exception": false,
     "start_time": "2021-08-07T16:52:30.167696",
     "status": "completed"
    },
    "tags": []
   },
   "outputs": [],
   "source": [
    "#lets find the categorialfeatures\n",
    "list_1=list(data.columns)\n"
   ]
  },
  {
   "cell_type": "code",
   "execution_count": 12,
   "id": "cb4a9a5b",
   "metadata": {
    "execution": {
     "iopub.execute_input": "2021-08-07T16:52:30.306965Z",
     "iopub.status.busy": "2021-08-07T16:52:30.306210Z",
     "iopub.status.idle": "2021-08-07T16:52:30.308232Z",
     "shell.execute_reply": "2021-08-07T16:52:30.308847Z",
     "shell.execute_reply.started": "2021-08-07T16:50:02.988202Z"
    },
    "papermill": {
     "duration": 0.054621,
     "end_time": "2021-08-07T16:52:30.309097",
     "exception": false,
     "start_time": "2021-08-07T16:52:30.254476",
     "status": "completed"
    },
    "tags": []
   },
   "outputs": [],
   "source": [
    "list_cate=[]\n",
    "for i in list_1:\n",
    "    if data[i].dtype=='object':\n",
    "        list_cate.append(i)"
   ]
  },
  {
   "cell_type": "code",
   "execution_count": 13,
   "id": "8a03b8a9",
   "metadata": {
    "execution": {
     "iopub.execute_input": "2021-08-07T16:52:30.413691Z",
     "iopub.status.busy": "2021-08-07T16:52:30.413142Z",
     "iopub.status.idle": "2021-08-07T16:52:30.540912Z",
     "shell.execute_reply": "2021-08-07T16:52:30.540393Z",
     "shell.execute_reply.started": "2021-08-07T16:50:22.340499Z"
    },
    "papermill": {
     "duration": 0.173962,
     "end_time": "2021-08-07T16:52:30.541067",
     "exception": false,
     "start_time": "2021-08-07T16:52:30.367105",
     "status": "completed"
    },
    "tags": []
   },
   "outputs": [],
   "source": [
    "from sklearn.preprocessing import LabelEncoder\n",
    "le=LabelEncoder()\n"
   ]
  },
  {
   "cell_type": "code",
   "execution_count": 14,
   "id": "8ed58fd2",
   "metadata": {
    "execution": {
     "iopub.execute_input": "2021-08-07T16:52:30.625883Z",
     "iopub.status.busy": "2021-08-07T16:52:30.625257Z",
     "iopub.status.idle": "2021-08-07T16:52:30.627568Z",
     "shell.execute_reply": "2021-08-07T16:52:30.627956Z",
     "shell.execute_reply.started": "2021-08-07T16:50:40.778125Z"
    },
    "papermill": {
     "duration": 0.047744,
     "end_time": "2021-08-07T16:52:30.628137",
     "exception": false,
     "start_time": "2021-08-07T16:52:30.580393",
     "status": "completed"
    },
    "tags": []
   },
   "outputs": [],
   "source": [
    "for i in list_cate:\n",
    "    data[i]=le.fit_transform(data[i])"
   ]
  },
  {
   "cell_type": "code",
   "execution_count": 15,
   "id": "ca6a3d12",
   "metadata": {
    "execution": {
     "iopub.execute_input": "2021-08-07T16:52:30.719093Z",
     "iopub.status.busy": "2021-08-07T16:52:30.718074Z",
     "iopub.status.idle": "2021-08-07T16:52:30.721975Z",
     "shell.execute_reply": "2021-08-07T16:52:30.722456Z",
     "shell.execute_reply.started": "2021-08-07T16:50:48.342429Z"
    },
    "papermill": {
     "duration": 0.054413,
     "end_time": "2021-08-07T16:52:30.722621",
     "exception": false,
     "start_time": "2021-08-07T16:52:30.668208",
     "status": "completed"
    },
    "tags": []
   },
   "outputs": [
    {
     "data": {
      "text/html": [
       "<div>\n",
       "<style scoped>\n",
       "    .dataframe tbody tr th:only-of-type {\n",
       "        vertical-align: middle;\n",
       "    }\n",
       "\n",
       "    .dataframe tbody tr th {\n",
       "        vertical-align: top;\n",
       "    }\n",
       "\n",
       "    .dataframe thead th {\n",
       "        text-align: right;\n",
       "    }\n",
       "</style>\n",
       "<table border=\"1\" class=\"dataframe\">\n",
       "  <thead>\n",
       "    <tr style=\"text-align: right;\">\n",
       "      <th></th>\n",
       "      <th>clean_comment</th>\n",
       "      <th>category</th>\n",
       "    </tr>\n",
       "  </thead>\n",
       "  <tbody>\n",
       "    <tr>\n",
       "      <th>0</th>\n",
       "      <td>88</td>\n",
       "      <td>1</td>\n",
       "    </tr>\n",
       "    <tr>\n",
       "      <th>1</th>\n",
       "      <td>411</td>\n",
       "      <td>1</td>\n",
       "    </tr>\n",
       "    <tr>\n",
       "      <th>2</th>\n",
       "      <td>757</td>\n",
       "      <td>-1</td>\n",
       "    </tr>\n",
       "    <tr>\n",
       "      <th>3</th>\n",
       "      <td>907</td>\n",
       "      <td>0</td>\n",
       "    </tr>\n",
       "    <tr>\n",
       "      <th>4</th>\n",
       "      <td>502</td>\n",
       "      <td>1</td>\n",
       "    </tr>\n",
       "    <tr>\n",
       "      <th>...</th>\n",
       "      <td>...</td>\n",
       "      <td>...</td>\n",
       "    </tr>\n",
       "    <tr>\n",
       "      <th>995</th>\n",
       "      <td>870</td>\n",
       "      <td>-1</td>\n",
       "    </tr>\n",
       "    <tr>\n",
       "      <th>996</th>\n",
       "      <td>105</td>\n",
       "      <td>0</td>\n",
       "    </tr>\n",
       "    <tr>\n",
       "      <th>997</th>\n",
       "      <td>796</td>\n",
       "      <td>-1</td>\n",
       "    </tr>\n",
       "    <tr>\n",
       "      <th>998</th>\n",
       "      <td>421</td>\n",
       "      <td>-1</td>\n",
       "    </tr>\n",
       "    <tr>\n",
       "      <th>999</th>\n",
       "      <td>86</td>\n",
       "      <td>1</td>\n",
       "    </tr>\n",
       "  </tbody>\n",
       "</table>\n",
       "<p>998 rows × 2 columns</p>\n",
       "</div>"
      ],
      "text/plain": [
       "     clean_comment  category\n",
       "0               88         1\n",
       "1              411         1\n",
       "2              757        -1\n",
       "3              907         0\n",
       "4              502         1\n",
       "..             ...       ...\n",
       "995            870        -1\n",
       "996            105         0\n",
       "997            796        -1\n",
       "998            421        -1\n",
       "999             86         1\n",
       "\n",
       "[998 rows x 2 columns]"
      ]
     },
     "execution_count": 15,
     "metadata": {},
     "output_type": "execute_result"
    }
   ],
   "source": [
    "data"
   ]
  },
  {
   "cell_type": "code",
   "execution_count": 16,
   "id": "cb845aae",
   "metadata": {
    "execution": {
     "iopub.execute_input": "2021-08-07T16:52:30.807266Z",
     "iopub.status.busy": "2021-08-07T16:52:30.806691Z",
     "iopub.status.idle": "2021-08-07T16:52:31.160223Z",
     "shell.execute_reply": "2021-08-07T16:52:31.159659Z",
     "shell.execute_reply.started": "2021-08-07T16:50:52.949606Z"
    },
    "papermill": {
     "duration": 0.397348,
     "end_time": "2021-08-07T16:52:31.160411",
     "exception": false,
     "start_time": "2021-08-07T16:52:30.763063",
     "status": "completed"
    },
    "tags": []
   },
   "outputs": [
    {
     "data": {
      "image/png": "[encoded data removed]",
      "text/plain": [
       "<Figure size 1296x864 with 2 Axes>"
      ]
     },
     "metadata": {
      "needs_background": "light"
     },
     "output_type": "display_data"
    }
   ],
   "source": [
    "data.hist(figsize=(18,12))\n",
    "plt.show()\n"
   ]
  },
  {
   "cell_type": "code",
   "execution_count": 17,
   "id": "7b5a6c93",
   "metadata": {
    "execution": {
     "iopub.execute_input": "2021-08-07T16:52:31.254581Z",
     "iopub.status.busy": "2021-08-07T16:52:31.253694Z",
     "iopub.status.idle": "2021-08-07T16:52:31.258202Z",
     "shell.execute_reply": "2021-08-07T16:52:31.257647Z",
     "shell.execute_reply.started": "2021-08-07T16:51:05.853095Z"
    },
    "papermill": {
     "duration": 0.056142,
     "end_time": "2021-08-07T16:52:31.258343",
     "exception": false,
     "start_time": "2021-08-07T16:52:31.202201",
     "status": "completed"
    },
    "tags": []
   },
   "outputs": [
    {
     "data": {
      "text/html": [
       "<div>\n",
       "<style scoped>\n",
       "    .dataframe tbody tr th:only-of-type {\n",
       "        vertical-align: middle;\n",
       "    }\n",
       "\n",
       "    .dataframe tbody tr th {\n",
       "        vertical-align: top;\n",
       "    }\n",
       "\n",
       "    .dataframe thead th {\n",
       "        text-align: right;\n",
       "    }\n",
       "</style>\n",
       "<table border=\"1\" class=\"dataframe\">\n",
       "  <thead>\n",
       "    <tr style=\"text-align: right;\">\n",
       "      <th></th>\n",
       "      <th>clean_comment</th>\n",
       "      <th>category</th>\n",
       "    </tr>\n",
       "  </thead>\n",
       "  <tbody>\n",
       "    <tr>\n",
       "      <th>clean_comment</th>\n",
       "      <td>1.00000</td>\n",
       "      <td>-0.01732</td>\n",
       "    </tr>\n",
       "    <tr>\n",
       "      <th>category</th>\n",
       "      <td>-0.01732</td>\n",
       "      <td>1.00000</td>\n",
       "    </tr>\n",
       "  </tbody>\n",
       "</table>\n",
       "</div>"
      ],
      "text/plain": [
       "               clean_comment  category\n",
       "clean_comment        1.00000  -0.01732\n",
       "category            -0.01732   1.00000"
      ]
     },
     "execution_count": 17,
     "metadata": {},
     "output_type": "execute_result"
    }
   ],
   "source": [
    "data.corr()"
   ]
  },
  {
   "cell_type": "code",
   "execution_count": 18,
   "id": "7f2f0b6f",
   "metadata": {
    "execution": {
     "iopub.execute_input": "2021-08-07T16:52:31.381939Z",
     "iopub.status.busy": "2021-08-07T16:52:31.381322Z",
     "iopub.status.idle": "2021-08-07T16:52:31.637302Z",
     "shell.execute_reply": "2021-08-07T16:52:31.636682Z",
     "shell.execute_reply.started": "2021-08-07T16:51:06.798927Z"
    },
    "papermill": {
     "duration": 0.324385,
     "end_time": "2021-08-07T16:52:31.637439",
     "exception": false,
     "start_time": "2021-08-07T16:52:31.313054",
     "status": "completed"
    },
    "tags": []
   },
   "outputs": [
    {
     "data": {
      "text/plain": [
       "<AxesSubplot:>"
      ]
     },
     "execution_count": 18,
     "metadata": {},
     "output_type": "execute_result"
    },
    {
     "data": {
      "image/png": "[encoded data removed]",
      "text/plain": [
       "<Figure size 864x720 with 2 Axes>"
      ]
     },
     "metadata": {
      "needs_background": "light"
     },
     "output_type": "display_data"
    }
   ],
   "source": [
    "plt.figure(figsize = (12,10))\n",
    "\n",
    "sns.heatmap(data.corr(), annot =True)\n"
   ]
  },
  {
   "cell_type": "code",
   "execution_count": 19,
   "id": "683a875c",
   "metadata": {
    "execution": {
     "iopub.execute_input": "2021-08-07T16:52:31.727705Z",
     "iopub.status.busy": "2021-08-07T16:52:31.726858Z",
     "iopub.status.idle": "2021-08-07T16:52:31.730735Z",
     "shell.execute_reply": "2021-08-07T16:52:31.730253Z",
     "shell.execute_reply.started": "2021-08-07T15:57:19.832557Z"
    },
    "papermill": {
     "duration": 0.050821,
     "end_time": "2021-08-07T16:52:31.730864",
     "exception": false,
     "start_time": "2021-08-07T16:52:31.680043",
     "status": "completed"
    },
    "tags": []
   },
   "outputs": [
    {
     "data": {
      "text/plain": [
       "(998, 2)"
      ]
     },
     "execution_count": 19,
     "metadata": {},
     "output_type": "execute_result"
    }
   ],
   "source": [
    "data.shape"
   ]
  },
  {
   "cell_type": "code",
   "execution_count": 20,
   "id": "601562bf",
   "metadata": {
    "execution": {
     "iopub.execute_input": "2021-08-07T16:52:31.820653Z",
     "iopub.status.busy": "2021-08-07T16:52:31.820019Z",
     "iopub.status.idle": "2021-08-07T16:52:32.808673Z",
     "shell.execute_reply": "2021-08-07T16:52:32.808030Z",
     "shell.execute_reply.started": "2021-08-07T16:51:47.719354Z"
    },
    "papermill": {
     "duration": 1.035773,
     "end_time": "2021-08-07T16:52:32.808813",
     "exception": false,
     "start_time": "2021-08-07T16:52:31.773040",
     "status": "completed"
    },
    "tags": []
   },
   "outputs": [
    {
     "data": {
      "text/plain": [
       "<seaborn.axisgrid.PairGrid at 0x7f314bfefb50>"
      ]
     },
     "execution_count": 20,
     "metadata": {},
     "output_type": "execute_result"
    },
    {
     "data": {
      "image/png": "[encoded data removed]",
      "text/plain": [
       "<Figure size 360x360 with 6 Axes>"
      ]
     },
     "metadata": {
      "needs_background": "light"
     },
     "output_type": "display_data"
    }
   ],
   "source": [
    "sns.pairplot(data=data)\n"
   ]
  },
  {
   "cell_type": "markdown",
   "id": "cfc6bf5b",
   "metadata": {
    "papermill": {
     "duration": 0.043995,
     "end_time": "2021-08-07T16:52:32.897594",
     "exception": false,
     "start_time": "2021-08-07T16:52:32.853599",
     "status": "completed"
    },
    "tags": []
   },
   "source": [
    "# NLTK"
   ]
  },
  {
   "cell_type": "code",
   "execution_count": 21,
   "id": "d7f0c013",
   "metadata": {
    "execution": {
     "iopub.execute_input": "2021-08-07T16:52:32.992581Z",
     "iopub.status.busy": "2021-08-07T16:52:32.991885Z",
     "iopub.status.idle": "2021-08-07T16:52:33.916641Z",
     "shell.execute_reply": "2021-08-07T16:52:33.915788Z",
     "shell.execute_reply.started": "2021-08-07T15:57:19.872387Z"
    },
    "papermill": {
     "duration": 0.974722,
     "end_time": "2021-08-07T16:52:33.916978",
     "exception": false,
     "start_time": "2021-08-07T16:52:32.942256",
     "status": "completed"
    },
    "tags": []
   },
   "outputs": [
    {
     "name": "stdout",
     "output_type": "stream",
     "text": [
      "[nltk_data] Downloading package stopwords to /usr/share/nltk_data...\n",
      "[nltk_data]   Package stopwords is already up-to-date!\n"
     ]
    }
   ],
   "source": [
    "import nltk\n",
    "import scikitplot as skplt\n",
    "import re\n",
    "from nltk.corpus import stopwords\n",
    "nltk.download('stopwords')\n",
    "STOPWORDS = stopwords.words('english')\n"
   ]
  },
  {
   "cell_type": "code",
   "execution_count": 22,
   "id": "2811e016",
   "metadata": {
    "execution": {
     "iopub.execute_input": "2021-08-07T16:52:34.012323Z",
     "iopub.status.busy": "2021-08-07T16:52:34.011702Z",
     "iopub.status.idle": "2021-08-07T16:52:34.014960Z",
     "shell.execute_reply": "2021-08-07T16:52:34.014410Z",
     "shell.execute_reply.started": "2021-08-07T15:57:20.917796Z"
    },
    "papermill": {
     "duration": 0.052628,
     "end_time": "2021-08-07T16:52:34.015136",
     "exception": false,
     "start_time": "2021-08-07T16:52:33.962508",
     "status": "completed"
    },
    "tags": []
   },
   "outputs": [],
   "source": [
    "def clean_text(text):\n",
    "    text = text.lower()\n",
    "    text = re.sub(r'[^0-9a-zA-Z]', ' ', text)\n",
    "    text = re.sub(r'\\s+', ' ', text)\n",
    "    text = \" \".join(word for word in text.split() if word not in STOPWORDS)\n",
    "    return text\n"
   ]
  },
  {
   "cell_type": "code",
   "execution_count": 23,
   "id": "3792334b",
   "metadata": {
    "execution": {
     "iopub.execute_input": "2021-08-07T16:52:34.108839Z",
     "iopub.status.busy": "2021-08-07T16:52:34.108230Z",
     "iopub.status.idle": "2021-08-07T16:52:34.111217Z",
     "shell.execute_reply": "2021-08-07T16:52:34.110632Z",
     "shell.execute_reply.started": "2021-08-07T15:57:20.925767Z"
    },
    "papermill": {
     "duration": 0.051431,
     "end_time": "2021-08-07T16:52:34.111346",
     "exception": false,
     "start_time": "2021-08-07T16:52:34.059915",
     "status": "completed"
    },
    "tags": []
   },
   "outputs": [],
   "source": [
    "#lets find the categorialfeatures\n",
    "list_1=list(data.columns)\n"
   ]
  },
  {
   "cell_type": "code",
   "execution_count": 24,
   "id": "4421851d",
   "metadata": {
    "execution": {
     "iopub.execute_input": "2021-08-07T16:52:34.204275Z",
     "iopub.status.busy": "2021-08-07T16:52:34.203665Z",
     "iopub.status.idle": "2021-08-07T16:52:34.206118Z",
     "shell.execute_reply": "2021-08-07T16:52:34.205537Z",
     "shell.execute_reply.started": "2021-08-07T15:57:20.937224Z"
    },
    "papermill": {
     "duration": 0.050884,
     "end_time": "2021-08-07T16:52:34.206246",
     "exception": false,
     "start_time": "2021-08-07T16:52:34.155362",
     "status": "completed"
    },
    "tags": []
   },
   "outputs": [],
   "source": [
    "list_cate=[]\n",
    "for i in list_1:\n",
    "    if data[i].dtype=='object':\n",
    "        list_cate.append(i)\n"
   ]
  },
  {
   "cell_type": "code",
   "execution_count": 25,
   "id": "849b5dbd",
   "metadata": {
    "execution": {
     "iopub.execute_input": "2021-08-07T16:52:34.298911Z",
     "iopub.status.busy": "2021-08-07T16:52:34.298285Z",
     "iopub.status.idle": "2021-08-07T16:52:34.300022Z",
     "shell.execute_reply": "2021-08-07T16:52:34.300477Z",
     "shell.execute_reply.started": "2021-08-07T15:57:20.947994Z"
    },
    "papermill": {
     "duration": 0.05021,
     "end_time": "2021-08-07T16:52:34.300637",
     "exception": false,
     "start_time": "2021-08-07T16:52:34.250427",
     "status": "completed"
    },
    "tags": []
   },
   "outputs": [],
   "source": [
    "from sklearn.preprocessing import LabelEncoder\n",
    "le=LabelEncoder()\n"
   ]
  },
  {
   "cell_type": "code",
   "execution_count": 26,
   "id": "c6e3531d",
   "metadata": {
    "execution": {
     "iopub.execute_input": "2021-08-07T16:52:34.392053Z",
     "iopub.status.busy": "2021-08-07T16:52:34.391459Z",
     "iopub.status.idle": "2021-08-07T16:52:34.394671Z",
     "shell.execute_reply": "2021-08-07T16:52:34.395089Z",
     "shell.execute_reply.started": "2021-08-07T15:57:20.96006Z"
    },
    "papermill": {
     "duration": 0.0505,
     "end_time": "2021-08-07T16:52:34.395254",
     "exception": false,
     "start_time": "2021-08-07T16:52:34.344754",
     "status": "completed"
    },
    "tags": []
   },
   "outputs": [],
   "source": [
    "for i in list_cate:\n",
    "    data[i]=le.fit_transform(data[i])\n"
   ]
  },
  {
   "cell_type": "code",
   "execution_count": 27,
   "id": "7dacdc57",
   "metadata": {
    "execution": {
     "iopub.execute_input": "2021-08-07T16:52:34.487150Z",
     "iopub.status.busy": "2021-08-07T16:52:34.486527Z",
     "iopub.status.idle": "2021-08-07T16:52:34.497478Z",
     "shell.execute_reply": "2021-08-07T16:52:34.496982Z",
     "shell.execute_reply.started": "2021-08-07T15:57:20.974548Z"
    },
    "papermill": {
     "duration": 0.057976,
     "end_time": "2021-08-07T16:52:34.497617",
     "exception": false,
     "start_time": "2021-08-07T16:52:34.439641",
     "status": "completed"
    },
    "tags": []
   },
   "outputs": [
    {
     "data": {
      "text/html": [
       "<div>\n",
       "<style scoped>\n",
       "    .dataframe tbody tr th:only-of-type {\n",
       "        vertical-align: middle;\n",
       "    }\n",
       "\n",
       "    .dataframe tbody tr th {\n",
       "        vertical-align: top;\n",
       "    }\n",
       "\n",
       "    .dataframe thead th {\n",
       "        text-align: right;\n",
       "    }\n",
       "</style>\n",
       "<table border=\"1\" class=\"dataframe\">\n",
       "  <thead>\n",
       "    <tr style=\"text-align: right;\">\n",
       "      <th></th>\n",
       "      <th>clean_comment</th>\n",
       "      <th>category</th>\n",
       "    </tr>\n",
       "  </thead>\n",
       "  <tbody>\n",
       "    <tr>\n",
       "      <th>0</th>\n",
       "      <td>88</td>\n",
       "      <td>1</td>\n",
       "    </tr>\n",
       "    <tr>\n",
       "      <th>1</th>\n",
       "      <td>411</td>\n",
       "      <td>1</td>\n",
       "    </tr>\n",
       "    <tr>\n",
       "      <th>2</th>\n",
       "      <td>757</td>\n",
       "      <td>-1</td>\n",
       "    </tr>\n",
       "    <tr>\n",
       "      <th>3</th>\n",
       "      <td>907</td>\n",
       "      <td>0</td>\n",
       "    </tr>\n",
       "    <tr>\n",
       "      <th>4</th>\n",
       "      <td>502</td>\n",
       "      <td>1</td>\n",
       "    </tr>\n",
       "    <tr>\n",
       "      <th>...</th>\n",
       "      <td>...</td>\n",
       "      <td>...</td>\n",
       "    </tr>\n",
       "    <tr>\n",
       "      <th>995</th>\n",
       "      <td>870</td>\n",
       "      <td>-1</td>\n",
       "    </tr>\n",
       "    <tr>\n",
       "      <th>996</th>\n",
       "      <td>105</td>\n",
       "      <td>0</td>\n",
       "    </tr>\n",
       "    <tr>\n",
       "      <th>997</th>\n",
       "      <td>796</td>\n",
       "      <td>-1</td>\n",
       "    </tr>\n",
       "    <tr>\n",
       "      <th>998</th>\n",
       "      <td>421</td>\n",
       "      <td>-1</td>\n",
       "    </tr>\n",
       "    <tr>\n",
       "      <th>999</th>\n",
       "      <td>86</td>\n",
       "      <td>1</td>\n",
       "    </tr>\n",
       "  </tbody>\n",
       "</table>\n",
       "<p>998 rows × 2 columns</p>\n",
       "</div>"
      ],
      "text/plain": [
       "     clean_comment  category\n",
       "0               88         1\n",
       "1              411         1\n",
       "2              757        -1\n",
       "3              907         0\n",
       "4              502         1\n",
       "..             ...       ...\n",
       "995            870        -1\n",
       "996            105         0\n",
       "997            796        -1\n",
       "998            421        -1\n",
       "999             86         1\n",
       "\n",
       "[998 rows x 2 columns]"
      ]
     },
     "execution_count": 27,
     "metadata": {},
     "output_type": "execute_result"
    }
   ],
   "source": [
    "data"
   ]
  },
  {
   "cell_type": "code",
   "execution_count": 28,
   "id": "24b083aa",
   "metadata": {
    "execution": {
     "iopub.execute_input": "2021-08-07T16:52:34.592828Z",
     "iopub.status.busy": "2021-08-07T16:52:34.592240Z",
     "iopub.status.idle": "2021-08-07T16:52:34.595200Z",
     "shell.execute_reply": "2021-08-07T16:52:34.594543Z",
     "shell.execute_reply.started": "2021-08-07T15:57:20.993868Z"
    },
    "papermill": {
     "duration": 0.052829,
     "end_time": "2021-08-07T16:52:34.595339",
     "exception": false,
     "start_time": "2021-08-07T16:52:34.542510",
     "status": "completed"
    },
    "tags": []
   },
   "outputs": [],
   "source": [
    "y=data['category']\n",
    "x=data.drop('category',axis=1)\n",
    "\n"
   ]
  },
  {
   "cell_type": "markdown",
   "id": "8cad25d4",
   "metadata": {
    "papermill": {
     "duration": 0.044765,
     "end_time": "2021-08-07T16:52:34.684806",
     "exception": false,
     "start_time": "2021-08-07T16:52:34.640041",
     "status": "completed"
    },
    "tags": []
   },
   "source": [
    "# TRAINING AND TESTING DATA"
   ]
  },
  {
   "cell_type": "code",
   "execution_count": 29,
   "id": "2afe9aea",
   "metadata": {
    "execution": {
     "iopub.execute_input": "2021-08-07T16:52:34.780243Z",
     "iopub.status.busy": "2021-08-07T16:52:34.779615Z",
     "iopub.status.idle": "2021-08-07T16:52:34.784242Z",
     "shell.execute_reply": "2021-08-07T16:52:34.783747Z",
     "shell.execute_reply.started": "2021-08-07T15:57:21.006504Z"
    },
    "papermill": {
     "duration": 0.05482,
     "end_time": "2021-08-07T16:52:34.784378",
     "exception": false,
     "start_time": "2021-08-07T16:52:34.729558",
     "status": "completed"
    },
    "tags": []
   },
   "outputs": [],
   "source": [
    "from sklearn.model_selection import train_test_split\n",
    "x_train,x_test,y_train,y_test=train_test_split(x,y,random_state=0,test_size=0.2)\n"
   ]
  },
  {
   "cell_type": "markdown",
   "id": "cda3c357",
   "metadata": {
    "papermill": {
     "duration": 0.04394,
     "end_time": "2021-08-07T16:52:34.873473",
     "exception": false,
     "start_time": "2021-08-07T16:52:34.829533",
     "status": "completed"
    },
    "tags": []
   },
   "source": [
    "# Feature Scaling"
   ]
  },
  {
   "cell_type": "code",
   "execution_count": 30,
   "id": "5476c8c6",
   "metadata": {
    "execution": {
     "iopub.execute_input": "2021-08-07T16:52:34.974949Z",
     "iopub.status.busy": "2021-08-07T16:52:34.974289Z",
     "iopub.status.idle": "2021-08-07T16:52:34.977731Z",
     "shell.execute_reply": "2021-08-07T16:52:34.977199Z",
     "shell.execute_reply.started": "2021-08-07T15:57:21.022138Z"
    },
    "papermill": {
     "duration": 0.059653,
     "end_time": "2021-08-07T16:52:34.977859",
     "exception": false,
     "start_time": "2021-08-07T16:52:34.918206",
     "status": "completed"
    },
    "tags": []
   },
   "outputs": [],
   "source": [
    "from sklearn.preprocessing import StandardScaler\n",
    "sc = StandardScaler()\n",
    "x_train = sc.fit_transform(x_train)\n",
    "x_test = sc.transform(x_test)\n"
   ]
  },
  {
   "cell_type": "code",
   "execution_count": 31,
   "id": "0c5654e6",
   "metadata": {
    "execution": {
     "iopub.execute_input": "2021-08-07T16:52:35.070697Z",
     "iopub.status.busy": "2021-08-07T16:52:35.070129Z",
     "iopub.status.idle": "2021-08-07T16:52:35.076442Z",
     "shell.execute_reply": "2021-08-07T16:52:35.076849Z",
     "shell.execute_reply.started": "2021-08-07T15:57:21.042287Z"
    },
    "papermill": {
     "duration": 0.054237,
     "end_time": "2021-08-07T16:52:35.077029",
     "exception": false,
     "start_time": "2021-08-07T16:52:35.022792",
     "status": "completed"
    },
    "tags": []
   },
   "outputs": [
    {
     "name": "stdout",
     "output_type": "stream",
     "text": [
      "798\n",
      "200\n",
      "798\n",
      "200\n"
     ]
    }
   ],
   "source": [
    "print(len(x_train))\n",
    "print(len(x_test))\n",
    "print(len(y_train))\n",
    "print(len(y_test))\n"
   ]
  },
  {
   "cell_type": "markdown",
   "id": "98efbc3b",
   "metadata": {
    "papermill": {
     "duration": 0.044587,
     "end_time": "2021-08-07T16:52:35.166535",
     "exception": false,
     "start_time": "2021-08-07T16:52:35.121948",
     "status": "completed"
    },
    "tags": []
   },
   "source": [
    "# ANN"
   ]
  },
  {
   "cell_type": "code",
   "execution_count": 32,
   "id": "3cc6e5c0",
   "metadata": {
    "execution": {
     "iopub.execute_input": "2021-08-07T16:52:35.262344Z",
     "iopub.status.busy": "2021-08-07T16:52:35.261689Z",
     "iopub.status.idle": "2021-08-07T16:52:58.227254Z",
     "shell.execute_reply": "2021-08-07T16:52:58.227797Z",
     "shell.execute_reply.started": "2021-08-07T16:14:31.966401Z"
    },
    "papermill": {
     "duration": 23.016659,
     "end_time": "2021-08-07T16:52:58.227963",
     "exception": false,
     "start_time": "2021-08-07T16:52:35.211304",
     "status": "completed"
    },
    "tags": []
   },
   "outputs": [
    {
     "name": "stdout",
     "output_type": "stream",
     "text": [
      "Epoch 1/200\n",
      "80/80 [==============================] - 1s 926us/step - loss: 0.6898 - accuracy: 0.3141\n",
      "Epoch 2/200\n",
      "80/80 [==============================] - 0s 934us/step - loss: 0.6662 - accuracy: 0.3045\n",
      "Epoch 3/200\n",
      "80/80 [==============================] - 0s 952us/step - loss: 0.6468 - accuracy: 0.3217\n",
      "Epoch 4/200\n",
      "80/80 [==============================] - 0s 986us/step - loss: 0.5991 - accuracy: 0.3073\n",
      "Epoch 5/200\n",
      "80/80 [==============================] - 0s 1ms/step - loss: 0.6016 - accuracy: 0.2892\n",
      "Epoch 6/200\n",
      "80/80 [==============================] - 0s 1ms/step - loss: 0.5740 - accuracy: 0.2750\n",
      "Epoch 7/200\n",
      "80/80 [==============================] - 0s 944us/step - loss: 0.5693 - accuracy: 0.2935\n",
      "Epoch 8/200\n",
      "80/80 [==============================] - 0s 972us/step - loss: 0.5573 - accuracy: 0.2797\n",
      "Epoch 9/200\n",
      "80/80 [==============================] - 0s 923us/step - loss: 0.5579 - accuracy: 0.2928\n",
      "Epoch 10/200\n",
      "80/80 [==============================] - 0s 957us/step - loss: 0.5426 - accuracy: 0.3008\n",
      "Epoch 11/200\n",
      "80/80 [==============================] - 0s 980us/step - loss: 0.5901 - accuracy: 0.3019\n",
      "Epoch 12/200\n",
      "80/80 [==============================] - 0s 965us/step - loss: 0.6340 - accuracy: 0.2821\n",
      "Epoch 13/200\n",
      "80/80 [==============================] - 0s 959us/step - loss: 0.6179 - accuracy: 0.2970\n",
      "Epoch 14/200\n",
      "80/80 [==============================] - 0s 982us/step - loss: 0.5999 - accuracy: 0.2868\n",
      "Epoch 15/200\n",
      "80/80 [==============================] - 0s 930us/step - loss: 0.5851 - accuracy: 0.2993\n",
      "Epoch 16/200\n",
      "80/80 [==============================] - 0s 981us/step - loss: 0.5835 - accuracy: 0.2693\n",
      "Epoch 17/200\n",
      "80/80 [==============================] - 0s 941us/step - loss: 0.6112 - accuracy: 0.2950\n",
      "Epoch 18/200\n",
      "80/80 [==============================] - 0s 996us/step - loss: 0.5724 - accuracy: 0.2886\n",
      "Epoch 19/200\n",
      "80/80 [==============================] - 0s 982us/step - loss: 0.6385 - accuracy: 0.2904\n",
      "Epoch 20/200\n",
      "80/80 [==============================] - 0s 976us/step - loss: 0.6090 - accuracy: 0.3358\n",
      "Epoch 21/200\n",
      "80/80 [==============================] - 0s 975us/step - loss: 0.5899 - accuracy: 0.2881\n",
      "Epoch 22/200\n",
      "80/80 [==============================] - 0s 940us/step - loss: 0.6206 - accuracy: 0.3011\n",
      "Epoch 23/200\n",
      "80/80 [==============================] - 0s 966us/step - loss: 0.5476 - accuracy: 0.2615\n",
      "Epoch 24/200\n",
      "80/80 [==============================] - 0s 970us/step - loss: 0.5739 - accuracy: 0.3028\n",
      "Epoch 25/200\n",
      "80/80 [==============================] - 0s 994us/step - loss: 0.5804 - accuracy: 0.2915\n",
      "Epoch 26/200\n",
      "80/80 [==============================] - 0s 961us/step - loss: 0.6045 - accuracy: 0.3069\n",
      "Epoch 27/200\n",
      "80/80 [==============================] - 0s 1ms/step - loss: 0.5937 - accuracy: 0.3211\n",
      "Epoch 28/200\n",
      "80/80 [==============================] - 0s 1ms/step - loss: 0.6116 - accuracy: 0.2801\n",
      "Epoch 29/200\n",
      "80/80 [==============================] - 0s 946us/step - loss: 0.5448 - accuracy: 0.3133\n",
      "Epoch 30/200\n",
      "80/80 [==============================] - 0s 961us/step - loss: 0.6021 - accuracy: 0.2829\n",
      "Epoch 31/200\n",
      "80/80 [==============================] - 0s 953us/step - loss: 0.5705 - accuracy: 0.2976\n",
      "Epoch 32/200\n",
      "80/80 [==============================] - 0s 969us/step - loss: 0.5941 - accuracy: 0.2864\n",
      "Epoch 33/200\n",
      "80/80 [==============================] - 0s 966us/step - loss: 0.6361 - accuracy: 0.2809\n",
      "Epoch 34/200\n",
      "80/80 [==============================] - 0s 967us/step - loss: 0.6088 - accuracy: 0.3050\n",
      "Epoch 35/200\n",
      "80/80 [==============================] - 0s 966us/step - loss: 0.5530 - accuracy: 0.2976\n",
      "Epoch 36/200\n",
      "80/80 [==============================] - 0s 907us/step - loss: 0.6162 - accuracy: 0.3086\n",
      "Epoch 37/200\n",
      "80/80 [==============================] - 0s 1ms/step - loss: 0.5714 - accuracy: 0.2950\n",
      "Epoch 38/200\n",
      "80/80 [==============================] - 0s 976us/step - loss: 0.6049 - accuracy: 0.3017\n",
      "Epoch 39/200\n",
      "80/80 [==============================] - 0s 971us/step - loss: 0.5622 - accuracy: 0.3126\n",
      "Epoch 40/200\n",
      "80/80 [==============================] - 0s 932us/step - loss: 0.5924 - accuracy: 0.2693\n",
      "Epoch 41/200\n",
      "80/80 [==============================] - 0s 985us/step - loss: 0.5673 - accuracy: 0.2856\n",
      "Epoch 42/200\n",
      "80/80 [==============================] - 0s 980us/step - loss: 0.6226 - accuracy: 0.2703\n",
      "Epoch 43/200\n",
      "80/80 [==============================] - 0s 998us/step - loss: 0.6104 - accuracy: 0.2688\n",
      "Epoch 44/200\n",
      "80/80 [==============================] - 0s 944us/step - loss: 0.5561 - accuracy: 0.3050\n",
      "Epoch 45/200\n",
      "80/80 [==============================] - 0s 963us/step - loss: 0.5909 - accuracy: 0.3110\n",
      "Epoch 46/200\n",
      "80/80 [==============================] - 0s 926us/step - loss: 0.5637 - accuracy: 0.2919\n",
      "Epoch 47/200\n",
      "80/80 [==============================] - 0s 911us/step - loss: 0.6202 - accuracy: 0.2887\n",
      "Epoch 48/200\n",
      "80/80 [==============================] - 0s 947us/step - loss: 0.5780 - accuracy: 0.2919\n",
      "Epoch 49/200\n",
      "80/80 [==============================] - 0s 950us/step - loss: 0.6205 - accuracy: 0.2664\n",
      "Epoch 50/200\n",
      "80/80 [==============================] - 0s 982us/step - loss: 0.5806 - accuracy: 0.3341\n",
      "Epoch 51/200\n",
      "80/80 [==============================] - 0s 1ms/step - loss: 0.5881 - accuracy: 0.2939\n",
      "Epoch 52/200\n",
      "80/80 [==============================] - 0s 965us/step - loss: 0.5682 - accuracy: 0.3201\n",
      "Epoch 53/200\n",
      "80/80 [==============================] - 0s 980us/step - loss: 0.6017 - accuracy: 0.2754\n",
      "Epoch 54/200\n",
      "80/80 [==============================] - 0s 941us/step - loss: 0.5679 - accuracy: 0.3004\n",
      "Epoch 55/200\n",
      "80/80 [==============================] - 0s 932us/step - loss: 0.5183 - accuracy: 0.3153\n",
      "Epoch 56/200\n",
      "80/80 [==============================] - 0s 1ms/step - loss: 0.5872 - accuracy: 0.2904\n",
      "Epoch 57/200\n",
      "80/80 [==============================] - 0s 976us/step - loss: 0.5834 - accuracy: 0.3180\n",
      "Epoch 58/200\n",
      "80/80 [==============================] - 0s 972us/step - loss: 0.6339 - accuracy: 0.2999\n",
      "Epoch 59/200\n",
      "80/80 [==============================] - 0s 982us/step - loss: 0.5786 - accuracy: 0.2896\n",
      "Epoch 60/200\n",
      "80/80 [==============================] - 0s 1ms/step - loss: 0.5878 - accuracy: 0.2907\n",
      "Epoch 61/200\n",
      "80/80 [==============================] - 0s 994us/step - loss: 0.6028 - accuracy: 0.3208\n",
      "Epoch 62/200\n",
      "80/80 [==============================] - 0s 935us/step - loss: 0.5305 - accuracy: 0.3114\n",
      "Epoch 63/200\n",
      "80/80 [==============================] - 0s 981us/step - loss: 0.5951 - accuracy: 0.3059\n",
      "Epoch 64/200\n",
      "80/80 [==============================] - 0s 993us/step - loss: 0.5777 - accuracy: 0.2672\n",
      "Epoch 65/200\n",
      "80/80 [==============================] - 0s 978us/step - loss: 0.5357 - accuracy: 0.2781\n",
      "Epoch 66/200\n",
      "80/80 [==============================] - 0s 991us/step - loss: 0.5873 - accuracy: 0.2748\n",
      "Epoch 67/200\n",
      "80/80 [==============================] - 0s 1ms/step - loss: 0.6151 - accuracy: 0.2639\n",
      "Epoch 68/200\n",
      "80/80 [==============================] - 0s 991us/step - loss: 0.5874 - accuracy: 0.2833\n",
      "Epoch 69/200\n",
      "80/80 [==============================] - 0s 1ms/step - loss: 0.6234 - accuracy: 0.2718\n",
      "Epoch 70/200\n",
      "80/80 [==============================] - 0s 998us/step - loss: 0.6112 - accuracy: 0.3026\n",
      "Epoch 71/200\n",
      "80/80 [==============================] - 0s 986us/step - loss: 0.5709 - accuracy: 0.2876\n",
      "Epoch 72/200\n",
      "80/80 [==============================] - 0s 1ms/step - loss: 0.6483 - accuracy: 0.2842\n",
      "Epoch 73/200\n",
      "80/80 [==============================] - 0s 985us/step - loss: 0.5939 - accuracy: 0.3074\n",
      "Epoch 74/200\n",
      "80/80 [==============================] - 0s 950us/step - loss: 0.5448 - accuracy: 0.2943\n",
      "Epoch 75/200\n",
      "80/80 [==============================] - 0s 924us/step - loss: 0.5261 - accuracy: 0.3025\n",
      "Epoch 76/200\n",
      "80/80 [==============================] - 0s 920us/step - loss: 0.6011 - accuracy: 0.2990\n",
      "Epoch 77/200\n",
      "80/80 [==============================] - 0s 922us/step - loss: 0.5908 - accuracy: 0.2903\n",
      "Epoch 78/200\n",
      "80/80 [==============================] - 0s 922us/step - loss: 0.5817 - accuracy: 0.2644\n",
      "Epoch 79/200\n",
      "80/80 [==============================] - 0s 972us/step - loss: 0.5777 - accuracy: 0.2931\n",
      "Epoch 80/200\n",
      "80/80 [==============================] - 0s 902us/step - loss: 0.5532 - accuracy: 0.2818\n",
      "Epoch 81/200\n",
      "80/80 [==============================] - 0s 925us/step - loss: 0.5500 - accuracy: 0.3143\n",
      "Epoch 82/200\n",
      "80/80 [==============================] - 0s 940us/step - loss: 0.5590 - accuracy: 0.3021\n",
      "Epoch 83/200\n",
      "80/80 [==============================] - 0s 937us/step - loss: 0.5686 - accuracy: 0.2721\n",
      "Epoch 84/200\n",
      "80/80 [==============================] - 0s 932us/step - loss: 0.5854 - accuracy: 0.2887\n",
      "Epoch 85/200\n",
      "80/80 [==============================] - 0s 968us/step - loss: 0.5695 - accuracy: 0.2950\n",
      "Epoch 86/200\n",
      "80/80 [==============================] - 0s 974us/step - loss: 0.5462 - accuracy: 0.3120\n",
      "Epoch 87/200\n",
      "80/80 [==============================] - 0s 972us/step - loss: 0.5654 - accuracy: 0.2814\n",
      "Epoch 88/200\n",
      "80/80 [==============================] - 0s 1ms/step - loss: 0.5845 - accuracy: 0.2979\n",
      "Epoch 89/200\n",
      "80/80 [==============================] - 0s 1ms/step - loss: 0.5995 - accuracy: 0.3266\n",
      "Epoch 90/200\n",
      "80/80 [==============================] - 0s 1ms/step - loss: 0.5860 - accuracy: 0.2933\n",
      "Epoch 91/200\n",
      "80/80 [==============================] - 0s 1ms/step - loss: 0.6328 - accuracy: 0.3014\n",
      "Epoch 92/200\n",
      "80/80 [==============================] - 0s 989us/step - loss: 0.6146 - accuracy: 0.2956\n",
      "Epoch 93/200\n",
      "80/80 [==============================] - 0s 949us/step - loss: 0.5590 - accuracy: 0.3265\n",
      "Epoch 94/200\n",
      "80/80 [==============================] - 0s 963us/step - loss: 0.6079 - accuracy: 0.3017\n",
      "Epoch 95/200\n",
      "80/80 [==============================] - 0s 1ms/step - loss: 0.5677 - accuracy: 0.3151\n",
      "Epoch 96/200\n",
      "80/80 [==============================] - 0s 1ms/step - loss: 0.5766 - accuracy: 0.2957\n",
      "Epoch 97/200\n",
      "80/80 [==============================] - 0s 1ms/step - loss: 0.5550 - accuracy: 0.2727\n",
      "Epoch 98/200\n",
      "80/80 [==============================] - 0s 1ms/step - loss: 0.5631 - accuracy: 0.3090\n",
      "Epoch 99/200\n",
      "80/80 [==============================] - 0s 1ms/step - loss: 0.5797 - accuracy: 0.2693\n",
      "Epoch 100/200\n",
      "80/80 [==============================] - 0s 1ms/step - loss: 0.5794 - accuracy: 0.2952\n",
      "Epoch 101/200\n",
      "80/80 [==============================] - 0s 1ms/step - loss: 0.5975 - accuracy: 0.2872\n",
      "Epoch 102/200\n",
      "80/80 [==============================] - 0s 1ms/step - loss: 0.5543 - accuracy: 0.3049\n",
      "Epoch 103/200\n",
      "80/80 [==============================] - 0s 990us/step - loss: 0.6337 - accuracy: 0.2997\n",
      "Epoch 104/200\n",
      "80/80 [==============================] - 0s 951us/step - loss: 0.5727 - accuracy: 0.3203\n",
      "Epoch 105/200\n",
      "80/80 [==============================] - 0s 937us/step - loss: 0.6205 - accuracy: 0.3002\n",
      "Epoch 106/200\n",
      "80/80 [==============================] - 0s 945us/step - loss: 0.5740 - accuracy: 0.2975\n",
      "Epoch 107/200\n",
      "80/80 [==============================] - 0s 936us/step - loss: 0.5887 - accuracy: 0.3103\n",
      "Epoch 108/200\n",
      "80/80 [==============================] - 0s 1ms/step - loss: 0.5830 - accuracy: 0.2588\n",
      "Epoch 109/200\n",
      "80/80 [==============================] - 0s 970us/step - loss: 0.5519 - accuracy: 0.3014\n",
      "Epoch 110/200\n",
      "80/80 [==============================] - 0s 958us/step - loss: 0.5703 - accuracy: 0.2954\n",
      "Epoch 111/200\n",
      "80/80 [==============================] - 0s 994us/step - loss: 0.5986 - accuracy: 0.3024\n",
      "Epoch 112/200\n",
      "80/80 [==============================] - 0s 941us/step - loss: 0.5936 - accuracy: 0.2903\n",
      "Epoch 113/200\n",
      "80/80 [==============================] - 0s 916us/step - loss: 0.5825 - accuracy: 0.2910\n",
      "Epoch 114/200\n",
      "80/80 [==============================] - 0s 918us/step - loss: 0.5316 - accuracy: 0.3046\n",
      "Epoch 115/200\n",
      "80/80 [==============================] - 0s 947us/step - loss: 0.5940 - accuracy: 0.3069\n",
      "Epoch 116/200\n",
      "80/80 [==============================] - 0s 956us/step - loss: 0.5385 - accuracy: 0.2588\n",
      "Epoch 117/200\n",
      "80/80 [==============================] - 0s 931us/step - loss: 0.5516 - accuracy: 0.2871\n",
      "Epoch 118/200\n",
      "80/80 [==============================] - 0s 955us/step - loss: 0.5709 - accuracy: 0.2793\n",
      "Epoch 119/200\n",
      "80/80 [==============================] - 0s 942us/step - loss: 0.6182 - accuracy: 0.2577\n",
      "Epoch 120/200\n",
      "80/80 [==============================] - 0s 907us/step - loss: 0.5763 - accuracy: 0.2673\n",
      "Epoch 121/200\n",
      "80/80 [==============================] - 0s 955us/step - loss: 0.5879 - accuracy: 0.2976\n",
      "Epoch 122/200\n",
      "80/80 [==============================] - 0s 991us/step - loss: 0.6204 - accuracy: 0.2985\n",
      "Epoch 123/200\n",
      "80/80 [==============================] - 0s 963us/step - loss: 0.5519 - accuracy: 0.2942\n",
      "Epoch 124/200\n",
      "80/80 [==============================] - 0s 1ms/step - loss: 0.6010 - accuracy: 0.3119\n",
      "Epoch 125/200\n",
      "80/80 [==============================] - 0s 950us/step - loss: 0.5882 - accuracy: 0.2782\n",
      "Epoch 126/200\n",
      "80/80 [==============================] - 0s 974us/step - loss: 0.5726 - accuracy: 0.2673\n",
      "Epoch 127/200\n",
      "80/80 [==============================] - 0s 1ms/step - loss: 0.5746 - accuracy: 0.2937\n",
      "Epoch 128/200\n",
      "80/80 [==============================] - 0s 1000us/step - loss: 0.5625 - accuracy: 0.2799\n",
      "Epoch 129/200\n",
      "80/80 [==============================] - 0s 974us/step - loss: 0.5705 - accuracy: 0.3002\n",
      "Epoch 130/200\n",
      "80/80 [==============================] - 0s 962us/step - loss: 0.5609 - accuracy: 0.3058\n",
      "Epoch 131/200\n",
      "80/80 [==============================] - 0s 967us/step - loss: 0.6052 - accuracy: 0.2858\n",
      "Epoch 132/200\n",
      "80/80 [==============================] - 0s 925us/step - loss: 0.6004 - accuracy: 0.2826\n",
      "Epoch 133/200\n",
      "80/80 [==============================] - 0s 1ms/step - loss: 0.5750 - accuracy: 0.3075\n",
      "Epoch 134/200\n",
      "80/80 [==============================] - 0s 993us/step - loss: 0.5506 - accuracy: 0.2907\n",
      "Epoch 135/200\n",
      "80/80 [==============================] - 0s 1ms/step - loss: 0.6110 - accuracy: 0.2785\n",
      "Epoch 136/200\n",
      "80/80 [==============================] - 0s 1ms/step - loss: 0.6153 - accuracy: 0.3069\n",
      "Epoch 137/200\n",
      "80/80 [==============================] - 0s 1ms/step - loss: 0.5714 - accuracy: 0.2909\n",
      "Epoch 138/200\n",
      "80/80 [==============================] - 0s 998us/step - loss: 0.6037 - accuracy: 0.3082\n",
      "Epoch 139/200\n",
      "80/80 [==============================] - 0s 980us/step - loss: 0.6247 - accuracy: 0.2826\n",
      "Epoch 140/200\n",
      "80/80 [==============================] - 0s 1ms/step - loss: 0.5498 - accuracy: 0.3074\n",
      "Epoch 141/200\n",
      "80/80 [==============================] - 0s 1ms/step - loss: 0.6155 - accuracy: 0.2591\n",
      "Epoch 142/200\n",
      "80/80 [==============================] - 0s 991us/step - loss: 0.6336 - accuracy: 0.2656\n",
      "Epoch 143/200\n",
      "80/80 [==============================] - 0s 956us/step - loss: 0.5888 - accuracy: 0.3110\n",
      "Epoch 144/200\n",
      "80/80 [==============================] - 0s 1ms/step - loss: 0.6308 - accuracy: 0.2760\n",
      "Epoch 145/200\n",
      "80/80 [==============================] - 0s 1ms/step - loss: 0.5669 - accuracy: 0.2770\n",
      "Epoch 146/200\n",
      "80/80 [==============================] - 0s 961us/step - loss: 0.5464 - accuracy: 0.2864\n",
      "Epoch 147/200\n",
      "80/80 [==============================] - 0s 992us/step - loss: 0.6111 - accuracy: 0.2694\n",
      "Epoch 148/200\n",
      "80/80 [==============================] - 0s 977us/step - loss: 0.5324 - accuracy: 0.3046\n",
      "Epoch 149/200\n",
      "80/80 [==============================] - 0s 999us/step - loss: 0.5800 - accuracy: 0.3031\n",
      "Epoch 150/200\n",
      "80/80 [==============================] - 0s 992us/step - loss: 0.5666 - accuracy: 0.2935\n",
      "Epoch 151/200\n",
      "80/80 [==============================] - 0s 975us/step - loss: 0.5658 - accuracy: 0.2878\n",
      "Epoch 152/200\n",
      "80/80 [==============================] - 0s 952us/step - loss: 0.6102 - accuracy: 0.3177\n",
      "Epoch 153/200\n",
      "80/80 [==============================] - 0s 939us/step - loss: 0.6167 - accuracy: 0.2896\n",
      "Epoch 154/200\n",
      "80/80 [==============================] - 0s 963us/step - loss: 0.6334 - accuracy: 0.2722\n",
      "Epoch 155/200\n",
      "80/80 [==============================] - 0s 951us/step - loss: 0.6099 - accuracy: 0.2952\n",
      "Epoch 156/200\n",
      "80/80 [==============================] - 0s 959us/step - loss: 0.6317 - accuracy: 0.2907\n",
      "Epoch 157/200\n",
      "80/80 [==============================] - 0s 970us/step - loss: 0.5617 - accuracy: 0.2773\n",
      "Epoch 158/200\n",
      "80/80 [==============================] - 0s 936us/step - loss: 0.5920 - accuracy: 0.2985\n",
      "Epoch 159/200\n",
      "80/80 [==============================] - 0s 1ms/step - loss: 0.5767 - accuracy: 0.3049\n",
      "Epoch 160/200\n",
      "80/80 [==============================] - 0s 968us/step - loss: 0.6168 - accuracy: 0.2628\n",
      "Epoch 161/200\n",
      "80/80 [==============================] - 0s 973us/step - loss: 0.6350 - accuracy: 0.2914\n",
      "Epoch 162/200\n",
      "80/80 [==============================] - 0s 911us/step - loss: 0.5943 - accuracy: 0.3149\n",
      "Epoch 163/200\n",
      "80/80 [==============================] - 0s 955us/step - loss: 0.6104 - accuracy: 0.2647\n",
      "Epoch 164/200\n",
      "80/80 [==============================] - 0s 954us/step - loss: 0.5766 - accuracy: 0.2617\n",
      "Epoch 165/200\n",
      "80/80 [==============================] - 0s 978us/step - loss: 0.5982 - accuracy: 0.2907\n",
      "Epoch 166/200\n",
      "80/80 [==============================] - 0s 911us/step - loss: 0.6336 - accuracy: 0.2901\n",
      "Epoch 167/200\n",
      "80/80 [==============================] - 0s 990us/step - loss: 0.5503 - accuracy: 0.2932\n",
      "Epoch 168/200\n",
      "80/80 [==============================] - 0s 932us/step - loss: 0.6416 - accuracy: 0.2775\n",
      "Epoch 169/200\n",
      "80/80 [==============================] - 0s 946us/step - loss: 0.5676 - accuracy: 0.2853\n",
      "Epoch 170/200\n",
      "80/80 [==============================] - 0s 976us/step - loss: 0.6318 - accuracy: 0.2633\n",
      "Epoch 171/200\n",
      "80/80 [==============================] - 0s 969us/step - loss: 0.6267 - accuracy: 0.2902\n",
      "Epoch 172/200\n",
      "80/80 [==============================] - 0s 966us/step - loss: 0.5768 - accuracy: 0.2923\n",
      "Epoch 173/200\n",
      "80/80 [==============================] - 0s 1ms/step - loss: 0.5894 - accuracy: 0.2853\n",
      "Epoch 174/200\n",
      "80/80 [==============================] - 0s 972us/step - loss: 0.5505 - accuracy: 0.2838\n",
      "Epoch 175/200\n",
      "80/80 [==============================] - 0s 943us/step - loss: 0.5946 - accuracy: 0.3017\n",
      "Epoch 176/200\n",
      "80/80 [==============================] - 0s 962us/step - loss: 0.5720 - accuracy: 0.2738\n",
      "Epoch 177/200\n",
      "80/80 [==============================] - 0s 970us/step - loss: 0.5721 - accuracy: 0.2980\n",
      "Epoch 178/200\n",
      "80/80 [==============================] - 0s 914us/step - loss: 0.6308 - accuracy: 0.2835\n",
      "Epoch 179/200\n",
      "80/80 [==============================] - 0s 970us/step - loss: 0.6105 - accuracy: 0.2932\n",
      "Epoch 180/200\n",
      "80/80 [==============================] - 0s 965us/step - loss: 0.5397 - accuracy: 0.2877\n",
      "Epoch 181/200\n",
      "80/80 [==============================] - 0s 986us/step - loss: 0.5974 - accuracy: 0.2916\n",
      "Epoch 182/200\n",
      "80/80 [==============================] - 0s 956us/step - loss: 0.5924 - accuracy: 0.2729\n",
      "Epoch 183/200\n",
      "80/80 [==============================] - 0s 959us/step - loss: 0.5919 - accuracy: 0.2985\n",
      "Epoch 184/200\n",
      "80/80 [==============================] - 0s 984us/step - loss: 0.5428 - accuracy: 0.3195\n",
      "Epoch 185/200\n",
      "80/80 [==============================] - 0s 965us/step - loss: 0.5594 - accuracy: 0.2880\n",
      "Epoch 186/200\n",
      "80/80 [==============================] - 0s 951us/step - loss: 0.6164 - accuracy: 0.2901\n",
      "Epoch 187/200\n",
      "80/80 [==============================] - 0s 998us/step - loss: 0.6165 - accuracy: 0.2840\n",
      "Epoch 188/200\n",
      "80/80 [==============================] - 0s 932us/step - loss: 0.5653 - accuracy: 0.3095\n",
      "Epoch 189/200\n",
      "80/80 [==============================] - 0s 973us/step - loss: 0.5735 - accuracy: 0.2912\n",
      "Epoch 190/200\n",
      "80/80 [==============================] - 0s 1ms/step - loss: 0.6305 - accuracy: 0.2918\n",
      "Epoch 191/200\n",
      "80/80 [==============================] - 0s 953us/step - loss: 0.5723 - accuracy: 0.2912\n",
      "Epoch 192/200\n",
      "80/80 [==============================] - 0s 988us/step - loss: 0.5982 - accuracy: 0.2840\n",
      "Epoch 193/200\n",
      "80/80 [==============================] - 0s 949us/step - loss: 0.5615 - accuracy: 0.3242\n",
      "Epoch 194/200\n",
      "80/80 [==============================] - 0s 906us/step - loss: 0.5938 - accuracy: 0.2911\n",
      "Epoch 195/200\n",
      "80/80 [==============================] - 0s 966us/step - loss: 0.5443 - accuracy: 0.3017\n",
      "Epoch 196/200\n",
      "80/80 [==============================] - 0s 955us/step - loss: 0.5998 - accuracy: 0.3093\n",
      "Epoch 197/200\n",
      "80/80 [==============================] - 0s 963us/step - loss: 0.5722 - accuracy: 0.2994\n",
      "Epoch 198/200\n",
      "80/80 [==============================] - 0s 968us/step - loss: 0.6061 - accuracy: 0.2921\n",
      "Epoch 199/200\n",
      "80/80 [==============================] - 0s 988us/step - loss: 0.5734 - accuracy: 0.3085\n",
      "Epoch 200/200\n",
      "80/80 [==============================] - 0s 928us/step - loss: 0.6029 - accuracy: 0.2924\n"
     ]
    },
    {
     "data": {
      "text/plain": [
       "<tensorflow.python.keras.callbacks.History at 0x7f31106a53d0>"
      ]
     },
     "execution_count": 32,
     "metadata": {},
     "output_type": "execute_result"
    }
   ],
   "source": [
    "# Importing the Keras libraries and packages\n",
    "import keras\n",
    "from keras.models import Sequential\n",
    "from keras.layers import Dense\n",
    "\n",
    "# Initialising the ANN\n",
    "classifier = Sequential()\n",
    "\n",
    "# Adding the input layer and the first hidden layer\n",
    "classifier.add(Dense(activation=\"relu\", units=6, kernel_initializer=\"uniform\"))\n",
    "\n",
    "# Adding the second hidden layer\n",
    "classifier.add(Dense(activation=\"relu\", input_dim=11, units=6, kernel_initializer=\"uniform\"))\n",
    "\n",
    "# Adding the output layer\n",
    "classifier.add(Dense(activation=\"sigmoid\", units=1, kernel_initializer=\"uniform\"))\n",
    "\n",
    "# Compiling the ANN\n",
    "classifier.compile(optimizer = 'adam', loss = 'binary_crossentropy', metrics = ['accuracy'])\n",
    "\n",
    "# Fitting the ANN to the Training set\n",
    "classifier.fit(x_train,y_train,batch_size = 10,\n",
    "    epochs=200,\n",
    ")\n"
   ]
  },
  {
   "cell_type": "code",
   "execution_count": 33,
   "id": "b1a51d49",
   "metadata": {
    "execution": {
     "iopub.execute_input": "2021-08-07T16:52:58.602421Z",
     "iopub.status.busy": "2021-08-07T16:52:58.601783Z",
     "iopub.status.idle": "2021-08-07T16:52:58.787586Z",
     "shell.execute_reply": "2021-08-07T16:52:58.787090Z",
     "shell.execute_reply.started": "2021-08-07T16:15:09.879004Z"
    },
    "papermill": {
     "duration": 0.374234,
     "end_time": "2021-08-07T16:52:58.787722",
     "exception": false,
     "start_time": "2021-08-07T16:52:58.413488",
     "status": "completed"
    },
    "tags": []
   },
   "outputs": [
    {
     "name": "stdout",
     "output_type": "stream",
     "text": [
      "7/7 [==============================] - 0s 1ms/step - loss: 0.6497 - accuracy: 0.3150\n"
     ]
    },
    {
     "data": {
      "text/plain": [
       "[0.649708092212677, 0.3149999976158142]"
      ]
     },
     "execution_count": 33,
     "metadata": {},
     "output_type": "execute_result"
    }
   ],
   "source": [
    "classifier.evaluate(x_test,y_test)"
   ]
  },
  {
   "cell_type": "markdown",
   "id": "10aadbfc",
   "metadata": {
    "papermill": {
     "duration": 0.185352,
     "end_time": "2021-08-07T16:52:59.161081",
     "exception": false,
     "start_time": "2021-08-07T16:52:58.975729",
     "status": "completed"
    },
    "tags": []
   },
   "source": [
    "**MODELS**\n",
    "\n",
    "**1. KNeighborsClassifier**\n",
    "\n"
   ]
  },
  {
   "cell_type": "code",
   "execution_count": 34,
   "id": "626b2e9f",
   "metadata": {
    "execution": {
     "iopub.execute_input": "2021-08-07T16:52:59.589293Z",
     "iopub.status.busy": "2021-08-07T16:52:59.588670Z",
     "iopub.status.idle": "2021-08-07T16:52:59.662650Z",
     "shell.execute_reply": "2021-08-07T16:52:59.663121Z",
     "shell.execute_reply.started": "2021-08-07T15:57:32.296431Z"
    },
    "papermill": {
     "duration": 0.262942,
     "end_time": "2021-08-07T16:52:59.663285",
     "exception": false,
     "start_time": "2021-08-07T16:52:59.400343",
     "status": "completed"
    },
    "tags": []
   },
   "outputs": [
    {
     "data": {
      "text/plain": [
       "KNeighborsClassifier(n_neighbors=7)"
      ]
     },
     "execution_count": 34,
     "metadata": {},
     "output_type": "execute_result"
    }
   ],
   "source": [
    "from sklearn.neighbors import KNeighborsClassifier\n",
    "knn=KNeighborsClassifier(n_neighbors=7)\n",
    "\n",
    "knn.fit(x_train,y_train)\n"
   ]
  },
  {
   "cell_type": "code",
   "execution_count": 35,
   "id": "fdd032c8",
   "metadata": {
    "execution": {
     "iopub.execute_input": "2021-08-07T16:53:00.042268Z",
     "iopub.status.busy": "2021-08-07T16:53:00.041619Z",
     "iopub.status.idle": "2021-08-07T16:53:00.084184Z",
     "shell.execute_reply": "2021-08-07T16:53:00.084824Z",
     "shell.execute_reply.started": "2021-08-07T15:57:32.368058Z"
    },
    "papermill": {
     "duration": 0.23602,
     "end_time": "2021-08-07T16:53:00.085072",
     "exception": false,
     "start_time": "2021-08-07T16:52:59.849052",
     "status": "completed"
    },
    "tags": []
   },
   "outputs": [
    {
     "name": "stdout",
     "output_type": "stream",
     "text": [
      "Classification Report is:\n",
      "               precision    recall  f1-score   support\n",
      "\n",
      "          -1       0.22      0.26      0.24        34\n",
      "           0       0.48      0.33      0.39        63\n",
      "           1       0.54      0.60      0.57       103\n",
      "\n",
      "    accuracy                           0.46       200\n",
      "   macro avg       0.41      0.40      0.40       200\n",
      "weighted avg       0.47      0.46      0.46       200\n",
      "\n",
      "Confusion Matrix:\n",
      " [[ 9  4 21]\n",
      " [10 21 32]\n",
      " [22 19 62]]\n",
      "Training Score:\n",
      " 59.64912280701754\n"
     ]
    }
   ],
   "source": [
    "\n",
    "y_pred=knn.predict(x_test)\n",
    "from sklearn.metrics import accuracy_score,classification_report,confusion_matrix\n",
    "from sklearn.metrics import r2_score\n",
    "from sklearn.metrics import mean_squared_error\n",
    "print(\"Classification Report is:\\n\",classification_report(y_test,y_pred))\n",
    "print(\"Confusion Matrix:\\n\",confusion_matrix(y_test,y_pred))\n",
    "print(\"Training Score:\\n\",knn.score(x_train,y_train)*100)\n"
   ]
  },
  {
   "cell_type": "code",
   "execution_count": 36,
   "id": "00528e09",
   "metadata": {
    "execution": {
     "iopub.execute_input": "2021-08-07T16:53:00.461365Z",
     "iopub.status.busy": "2021-08-07T16:53:00.460669Z",
     "iopub.status.idle": "2021-08-07T16:53:00.472462Z",
     "shell.execute_reply": "2021-08-07T16:53:00.471797Z",
     "shell.execute_reply.started": "2021-08-07T15:57:32.425274Z"
    },
    "papermill": {
     "duration": 0.200758,
     "end_time": "2021-08-07T16:53:00.472597",
     "exception": false,
     "start_time": "2021-08-07T16:53:00.271839",
     "status": "completed"
    },
    "tags": []
   },
   "outputs": [
    {
     "data": {
      "text/plain": [
       "46.0"
      ]
     },
     "execution_count": 36,
     "metadata": {},
     "output_type": "execute_result"
    }
   ],
   "source": [
    "knn.score(x_test,y_test)*100"
   ]
  },
  {
   "cell_type": "markdown",
   "id": "8bfd5571",
   "metadata": {
    "papermill": {
     "duration": 0.18536,
     "end_time": "2021-08-07T16:53:00.844132",
     "exception": false,
     "start_time": "2021-08-07T16:53:00.658772",
     "status": "completed"
    },
    "tags": []
   },
   "source": [
    "**2. Naive Bayes**\n",
    "\n"
   ]
  },
  {
   "cell_type": "code",
   "execution_count": 37,
   "id": "6b0fefad",
   "metadata": {
    "execution": {
     "iopub.execute_input": "2021-08-07T16:53:01.219090Z",
     "iopub.status.busy": "2021-08-07T16:53:01.218135Z",
     "iopub.status.idle": "2021-08-07T16:53:01.225586Z",
     "shell.execute_reply": "2021-08-07T16:53:01.225993Z",
     "shell.execute_reply.started": "2021-08-07T15:57:32.445074Z"
    },
    "papermill": {
     "duration": 0.19749,
     "end_time": "2021-08-07T16:53:01.226194",
     "exception": false,
     "start_time": "2021-08-07T16:53:01.028704",
     "status": "completed"
    },
    "tags": []
   },
   "outputs": [
    {
     "data": {
      "text/plain": [
       "GaussianNB()"
      ]
     },
     "execution_count": 37,
     "metadata": {},
     "output_type": "execute_result"
    }
   ],
   "source": [
    "from sklearn.naive_bayes import GaussianNB\n",
    "gnb = GaussianNB()\n",
    "gnb.fit(x_train,y_train)\n"
   ]
  },
  {
   "cell_type": "code",
   "execution_count": 38,
   "id": "7ddbb0d1",
   "metadata": {
    "execution": {
     "iopub.execute_input": "2021-08-07T16:53:01.600321Z",
     "iopub.status.busy": "2021-08-07T16:53:01.599393Z",
     "iopub.status.idle": "2021-08-07T16:53:01.612078Z",
     "shell.execute_reply": "2021-08-07T16:53:01.612537Z",
     "shell.execute_reply.started": "2021-08-07T15:57:32.458408Z"
    },
    "papermill": {
     "duration": 0.201991,
     "end_time": "2021-08-07T16:53:01.612697",
     "exception": false,
     "start_time": "2021-08-07T16:53:01.410706",
     "status": "completed"
    },
    "tags": []
   },
   "outputs": [
    {
     "name": "stdout",
     "output_type": "stream",
     "text": [
      "Classification Report is:\n",
      "               precision    recall  f1-score   support\n",
      "\n",
      "          -1       0.00      0.00      0.00        34\n",
      "           0       0.00      0.00      0.00        63\n",
      "           1       0.52      1.00      0.68       103\n",
      "\n",
      "    accuracy                           0.52       200\n",
      "   macro avg       0.17      0.33      0.23       200\n",
      "weighted avg       0.27      0.52      0.35       200\n",
      "\n",
      "Confusion Matrix:\n",
      " [[  0   0  34]\n",
      " [  0   0  63]\n",
      " [  0   0 103]]\n",
      "Training Score:\n",
      " 49.122807017543856\n"
     ]
    }
   ],
   "source": [
    "y_pred=gnb.predict(x_test)\n",
    "from sklearn.metrics import accuracy_score,classification_report,confusion_matrix\n",
    "from sklearn.metrics import r2_score\n",
    "from sklearn.metrics import mean_squared_error\n",
    "print(\"Classification Report is:\\n\",classification_report(y_test,y_pred))\n",
    "print(\"Confusion Matrix:\\n\",confusion_matrix(y_test,y_pred))\n",
    "print(\"Training Score:\\n\",gnb.score(x_train,y_train)*100)\n"
   ]
  },
  {
   "cell_type": "code",
   "execution_count": 39,
   "id": "8a2dafff",
   "metadata": {
    "execution": {
     "iopub.execute_input": "2021-08-07T16:53:01.990578Z",
     "iopub.status.busy": "2021-08-07T16:53:01.989701Z",
     "iopub.status.idle": "2021-08-07T16:53:01.994446Z",
     "shell.execute_reply": "2021-08-07T16:53:01.993941Z",
     "shell.execute_reply.started": "2021-08-07T15:57:32.478156Z"
    },
    "papermill": {
     "duration": 0.197106,
     "end_time": "2021-08-07T16:53:01.994581",
     "exception": false,
     "start_time": "2021-08-07T16:53:01.797475",
     "status": "completed"
    },
    "tags": []
   },
   "outputs": [
    {
     "data": {
      "text/plain": [
       "51.5"
      ]
     },
     "execution_count": 39,
     "metadata": {},
     "output_type": "execute_result"
    }
   ],
   "source": [
    "gnb.score(x_test,y_test)*100"
   ]
  },
  {
   "cell_type": "markdown",
   "id": "0312976f",
   "metadata": {
    "papermill": {
     "duration": 0.18749,
     "end_time": "2021-08-07T16:53:02.367976",
     "exception": false,
     "start_time": "2021-08-07T16:53:02.180486",
     "status": "completed"
    },
    "tags": []
   },
   "source": [
    "**3. DECISION TREE CLASSIFIER**\n",
    "\n"
   ]
  },
  {
   "cell_type": "code",
   "execution_count": 40,
   "id": "2cd0f564",
   "metadata": {
    "execution": {
     "iopub.execute_input": "2021-08-07T16:53:02.745149Z",
     "iopub.status.busy": "2021-08-07T16:53:02.744399Z",
     "iopub.status.idle": "2021-08-07T16:53:02.786231Z",
     "shell.execute_reply": "2021-08-07T16:53:02.785337Z",
     "shell.execute_reply.started": "2021-08-07T15:57:32.490028Z"
    },
    "papermill": {
     "duration": 0.23164,
     "end_time": "2021-08-07T16:53:02.786375",
     "exception": false,
     "start_time": "2021-08-07T16:53:02.554735",
     "status": "completed"
    },
    "tags": []
   },
   "outputs": [
    {
     "data": {
      "text/plain": [
       "DecisionTreeClassifier(criterion='entropy', max_depth=6, random_state=123)"
      ]
     },
     "execution_count": 40,
     "metadata": {},
     "output_type": "execute_result"
    }
   ],
   "source": [
    "from sklearn.tree import DecisionTreeClassifier\n",
    "dtree = DecisionTreeClassifier(max_depth=6, random_state=123,criterion='entropy')\n",
    "\n",
    "dtree.fit(x_train,y_train)\n"
   ]
  },
  {
   "cell_type": "code",
   "execution_count": 41,
   "id": "c11e3342",
   "metadata": {
    "execution": {
     "iopub.execute_input": "2021-08-07T16:53:03.162966Z",
     "iopub.status.busy": "2021-08-07T16:53:03.162396Z",
     "iopub.status.idle": "2021-08-07T16:53:03.174590Z",
     "shell.execute_reply": "2021-08-07T16:53:03.175101Z",
     "shell.execute_reply.started": "2021-08-07T15:57:32.530984Z"
    },
    "papermill": {
     "duration": 0.201332,
     "end_time": "2021-08-07T16:53:03.175274",
     "exception": false,
     "start_time": "2021-08-07T16:53:02.973942",
     "status": "completed"
    },
    "tags": []
   },
   "outputs": [
    {
     "name": "stdout",
     "output_type": "stream",
     "text": [
      "Classification Report is:\n",
      "               precision    recall  f1-score   support\n",
      "\n",
      "          -1       0.12      0.03      0.05        34\n",
      "           0       0.62      0.16      0.25        63\n",
      "           1       0.54      0.92      0.68       103\n",
      "\n",
      "    accuracy                           0.53       200\n",
      "   macro avg       0.43      0.37      0.33       200\n",
      "weighted avg       0.50      0.53      0.44       200\n",
      "\n",
      "Confusion Matrix:\n",
      " [[ 1  2 31]\n",
      " [ 3 10 50]\n",
      " [ 4  4 95]]\n",
      "Training Score:\n",
      " 55.88972431077694\n"
     ]
    }
   ],
   "source": [
    "y_pred=dtree.predict(x_test)\n",
    "from sklearn.metrics import accuracy_score,classification_report,confusion_matrix\n",
    "from sklearn.metrics import r2_score\n",
    "from sklearn.metrics import mean_squared_error\n",
    "print(\"Classification Report is:\\n\",classification_report(y_test,y_pred))\n",
    "print(\"Confusion Matrix:\\n\",confusion_matrix(y_test,y_pred))\n",
    "print(\"Training Score:\\n\",dtree.score(x_train,y_train)*100)"
   ]
  },
  {
   "cell_type": "code",
   "execution_count": 42,
   "id": "f3e0bfbe",
   "metadata": {
    "execution": {
     "iopub.execute_input": "2021-08-07T16:53:03.557080Z",
     "iopub.status.busy": "2021-08-07T16:53:03.556064Z",
     "iopub.status.idle": "2021-08-07T16:53:03.562120Z",
     "shell.execute_reply": "2021-08-07T16:53:03.561513Z",
     "shell.execute_reply.started": "2021-08-07T15:57:32.547719Z"
    },
    "papermill": {
     "duration": 0.195835,
     "end_time": "2021-08-07T16:53:03.562261",
     "exception": false,
     "start_time": "2021-08-07T16:53:03.366426",
     "status": "completed"
    },
    "tags": []
   },
   "outputs": [
    {
     "data": {
      "text/plain": [
       "53.0"
      ]
     },
     "execution_count": 42,
     "metadata": {},
     "output_type": "execute_result"
    }
   ],
   "source": [
    "dtree.score(x_test,y_test)*100"
   ]
  },
  {
   "cell_type": "markdown",
   "id": "d3ca2f02",
   "metadata": {
    "papermill": {
     "duration": 0.185924,
     "end_time": "2021-08-07T16:53:03.935103",
     "exception": false,
     "start_time": "2021-08-07T16:53:03.749179",
     "status": "completed"
    },
    "tags": []
   },
   "source": [
    "**4.Random Forest Classifier**\n",
    "\n"
   ]
  },
  {
   "cell_type": "code",
   "execution_count": 43,
   "id": "ce05ff93",
   "metadata": {
    "execution": {
     "iopub.execute_input": "2021-08-07T16:53:04.326223Z",
     "iopub.status.busy": "2021-08-07T16:53:04.325425Z",
     "iopub.status.idle": "2021-08-07T16:53:04.590193Z",
     "shell.execute_reply": "2021-08-07T16:53:04.589664Z",
     "shell.execute_reply.started": "2021-08-07T15:57:32.561284Z"
    },
    "papermill": {
     "duration": 0.467605,
     "end_time": "2021-08-07T16:53:04.590335",
     "exception": false,
     "start_time": "2021-08-07T16:53:04.122730",
     "status": "completed"
    },
    "tags": []
   },
   "outputs": [
    {
     "data": {
      "text/plain": [
       "RandomForestClassifier()"
      ]
     },
     "execution_count": 43,
     "metadata": {},
     "output_type": "execute_result"
    }
   ],
   "source": [
    "from sklearn.ensemble import RandomForestClassifier\n",
    "rfc=RandomForestClassifier()\n",
    "rfc.fit(x_train,y_train)"
   ]
  },
  {
   "cell_type": "code",
   "execution_count": 44,
   "id": "9851a821",
   "metadata": {
    "execution": {
     "iopub.execute_input": "2021-08-07T16:53:04.972857Z",
     "iopub.status.busy": "2021-08-07T16:53:04.972177Z",
     "iopub.status.idle": "2021-08-07T16:53:05.022273Z",
     "shell.execute_reply": "2021-08-07T16:53:05.021627Z",
     "shell.execute_reply.started": "2021-08-07T15:57:32.860642Z"
    },
    "papermill": {
     "duration": 0.24518,
     "end_time": "2021-08-07T16:53:05.022412",
     "exception": false,
     "start_time": "2021-08-07T16:53:04.777232",
     "status": "completed"
    },
    "tags": []
   },
   "outputs": [
    {
     "name": "stdout",
     "output_type": "stream",
     "text": [
      "Classification Report is:\n",
      "               precision    recall  f1-score   support\n",
      "\n",
      "          -1       0.20      0.24      0.22        34\n",
      "           0       0.44      0.40      0.42        63\n",
      "           1       0.57      0.57      0.57       103\n",
      "\n",
      "    accuracy                           0.46       200\n",
      "   macro avg       0.40      0.40      0.40       200\n",
      "weighted avg       0.47      0.46      0.46       200\n",
      "\n",
      "Confusion Matrix:\n",
      " [[ 8 10 16]\n",
      " [10 25 28]\n",
      " [22 22 59]]\n",
      "Training Score:\n",
      " 100.0\n"
     ]
    }
   ],
   "source": [
    "y_pred=rfc.predict(x_test)\n",
    "from sklearn.metrics import accuracy_score,classification_report,confusion_matrix\n",
    "from sklearn.metrics import r2_score\n",
    "from sklearn.metrics import mean_squared_error\n",
    "print(\"Classification Report is:\\n\",classification_report(y_test,y_pred))\n",
    "print(\"Confusion Matrix:\\n\",confusion_matrix(y_test,y_pred))\n",
    "print(\"Training Score:\\n\",rfc.score(x_train,y_train)*100)\n"
   ]
  },
  {
   "cell_type": "markdown",
   "id": "8c316041",
   "metadata": {
    "papermill": {
     "duration": 0.187507,
     "end_time": "2021-08-07T16:53:05.399327",
     "exception": false,
     "start_time": "2021-08-07T16:53:05.211820",
     "status": "completed"
    },
    "tags": []
   },
   "source": [
    "**5. Logistic Regression**"
   ]
  },
  {
   "cell_type": "code",
   "execution_count": 45,
   "id": "fdff6f02",
   "metadata": {
    "execution": {
     "iopub.execute_input": "2021-08-07T16:53:05.782311Z",
     "iopub.status.busy": "2021-08-07T16:53:05.781379Z",
     "iopub.status.idle": "2021-08-07T16:53:05.937132Z",
     "shell.execute_reply": "2021-08-07T16:53:05.936596Z",
     "shell.execute_reply.started": "2021-08-07T15:57:32.943434Z"
    },
    "papermill": {
     "duration": 0.350928,
     "end_time": "2021-08-07T16:53:05.937270",
     "exception": false,
     "start_time": "2021-08-07T16:53:05.586342",
     "status": "completed"
    },
    "tags": []
   },
   "outputs": [
    {
     "data": {
      "text/plain": [
       "LogisticRegression()"
      ]
     },
     "execution_count": 45,
     "metadata": {},
     "output_type": "execute_result"
    }
   ],
   "source": [
    "from sklearn.linear_model import LogisticRegression\n",
    "reg = LogisticRegression()\n",
    "reg.fit(x_train,y_train)                         "
   ]
  },
  {
   "cell_type": "code",
   "execution_count": 46,
   "id": "d91a4c47",
   "metadata": {
    "execution": {
     "iopub.execute_input": "2021-08-07T16:53:06.320594Z",
     "iopub.status.busy": "2021-08-07T16:53:06.319674Z",
     "iopub.status.idle": "2021-08-07T16:53:06.325264Z",
     "shell.execute_reply": "2021-08-07T16:53:06.324616Z",
     "shell.execute_reply.started": "2021-08-07T15:57:33.092438Z"
    },
    "papermill": {
     "duration": 0.200083,
     "end_time": "2021-08-07T16:53:06.325406",
     "exception": false,
     "start_time": "2021-08-07T16:53:06.125323",
     "status": "completed"
    },
    "tags": []
   },
   "outputs": [
    {
     "name": "stdout",
     "output_type": "stream",
     "text": [
      "Training Score:\n",
      " 49.122807017543856\n",
      "r2 Score of test set : -0.7580281814567777\n"
     ]
    }
   ],
   "source": [
    "y_pred=reg.predict(x_test)\n",
    "from sklearn.metrics import accuracy_score,classification_report,confusion_matrix\n",
    "from sklearn.metrics import r2_score\n",
    "from sklearn.metrics import mean_squared_error\n",
    "print(\"Training Score:\\n\",reg.score(x_train,y_train)*100)\n",
    "print(f\"r2 Score of test set : {r2_score(y_test, y_pred)}\")\n"
   ]
  },
  {
   "cell_type": "code",
   "execution_count": 47,
   "id": "fc569374",
   "metadata": {
    "execution": {
     "iopub.execute_input": "2021-08-07T16:53:06.718111Z",
     "iopub.status.busy": "2021-08-07T16:53:06.717182Z",
     "iopub.status.idle": "2021-08-07T16:53:06.720805Z",
     "shell.execute_reply": "2021-08-07T16:53:06.721336Z",
     "shell.execute_reply.started": "2021-08-07T15:57:33.105025Z"
    },
    "papermill": {
     "duration": 0.203575,
     "end_time": "2021-08-07T16:53:06.721504",
     "exception": false,
     "start_time": "2021-08-07T16:53:06.517929",
     "status": "completed"
    },
    "tags": []
   },
   "outputs": [
    {
     "data": {
      "text/plain": [
       "51.5"
      ]
     },
     "execution_count": 47,
     "metadata": {},
     "output_type": "execute_result"
    }
   ],
   "source": [
    "reg.score(x_test,y_test)*100"
   ]
  },
  {
   "cell_type": "code",
   "execution_count": 48,
   "id": "34369fe7",
   "metadata": {
    "execution": {
     "iopub.execute_input": "2021-08-07T16:53:07.106913Z",
     "iopub.status.busy": "2021-08-07T16:53:07.106316Z",
     "iopub.status.idle": "2021-08-07T16:53:07.109472Z",
     "shell.execute_reply": "2021-08-07T16:53:07.108967Z",
     "shell.execute_reply.started": "2021-08-07T15:57:33.116454Z"
    },
    "papermill": {
     "duration": 0.197894,
     "end_time": "2021-08-07T16:53:07.109604",
     "exception": false,
     "start_time": "2021-08-07T16:53:06.911710",
     "status": "completed"
    },
    "tags": []
   },
   "outputs": [],
   "source": [
    "from sklearn.linear_model import LassoLars,LinearRegression,LogisticRegression,Ridge,Lasso\n"
   ]
  },
  {
   "cell_type": "code",
   "execution_count": 49,
   "id": "ccab5d4f",
   "metadata": {
    "execution": {
     "iopub.execute_input": "2021-08-07T16:53:07.500446Z",
     "iopub.status.busy": "2021-08-07T16:53:07.499735Z",
     "iopub.status.idle": "2021-08-07T16:53:07.538391Z",
     "shell.execute_reply": "2021-08-07T16:53:07.537886Z",
     "shell.execute_reply.started": "2021-08-07T15:57:33.125513Z"
    },
    "papermill": {
     "duration": 0.241649,
     "end_time": "2021-08-07T16:53:07.538523",
     "exception": false,
     "start_time": "2021-08-07T16:53:07.296874",
     "status": "completed"
    },
    "tags": []
   },
   "outputs": [
    {
     "data": {
      "text/plain": [
       "LinearRegression()"
      ]
     },
     "execution_count": 49,
     "metadata": {},
     "output_type": "execute_result"
    }
   ],
   "source": [
    "lin_reg = LinearRegression()\n",
    "lin_reg.fit(x_train,y_train)\n"
   ]
  },
  {
   "cell_type": "code",
   "execution_count": 50,
   "id": "5d3d3326",
   "metadata": {
    "execution": {
     "iopub.execute_input": "2021-08-07T16:53:07.919927Z",
     "iopub.status.busy": "2021-08-07T16:53:07.919069Z",
     "iopub.status.idle": "2021-08-07T16:53:07.921973Z",
     "shell.execute_reply": "2021-08-07T16:53:07.922453Z",
     "shell.execute_reply.started": "2021-08-07T15:57:33.175993Z"
    },
    "papermill": {
     "duration": 0.197633,
     "end_time": "2021-08-07T16:53:07.922615",
     "exception": false,
     "start_time": "2021-08-07T16:53:07.724982",
     "status": "completed"
    },
    "tags": []
   },
   "outputs": [
    {
     "name": "stdout",
     "output_type": "stream",
     "text": [
      "r2 Score of test set : -0.007605072661144074\n"
     ]
    }
   ],
   "source": [
    "y_pred = lin_reg.predict(x_test)\n",
    " \n",
    "print(f\"r2 Score of test set : {r2_score(y_test, y_pred)}\")\n"
   ]
  },
  {
   "cell_type": "code",
   "execution_count": 51,
   "id": "cbe7dc38",
   "metadata": {
    "execution": {
     "iopub.execute_input": "2021-08-07T16:53:08.304184Z",
     "iopub.status.busy": "2021-08-07T16:53:08.303428Z",
     "iopub.status.idle": "2021-08-07T16:53:08.306959Z",
     "shell.execute_reply": "2021-08-07T16:53:08.307420Z",
     "shell.execute_reply.started": "2021-08-07T15:57:33.187524Z"
    },
    "papermill": {
     "duration": 0.197335,
     "end_time": "2021-08-07T16:53:08.307580",
     "exception": false,
     "start_time": "2021-08-07T16:53:08.110245",
     "status": "completed"
    },
    "tags": []
   },
   "outputs": [
    {
     "data": {
      "text/plain": [
       "0.2756892230576441"
      ]
     },
     "execution_count": 51,
     "metadata": {},
     "output_type": "execute_result"
    }
   ],
   "source": [
    "lin_reg.intercept_\n"
   ]
  },
  {
   "cell_type": "code",
   "execution_count": 52,
   "id": "e5e2db1c",
   "metadata": {
    "execution": {
     "iopub.execute_input": "2021-08-07T16:53:08.688148Z",
     "iopub.status.busy": "2021-08-07T16:53:08.687564Z",
     "iopub.status.idle": "2021-08-07T16:53:08.692130Z",
     "shell.execute_reply": "2021-08-07T16:53:08.691574Z",
     "shell.execute_reply.started": "2021-08-07T15:57:33.202463Z"
    },
    "papermill": {
     "duration": 0.196921,
     "end_time": "2021-08-07T16:53:08.692287",
     "exception": false,
     "start_time": "2021-08-07T16:53:08.495366",
     "status": "completed"
    },
    "tags": []
   },
   "outputs": [
    {
     "data": {
      "text/plain": [
       "array([-0.00580684])"
      ]
     },
     "execution_count": 52,
     "metadata": {},
     "output_type": "execute_result"
    }
   ],
   "source": [
    "lin_reg.coef_\n"
   ]
  },
  {
   "cell_type": "code",
   "execution_count": 53,
   "id": "ad6b51ca",
   "metadata": {
    "execution": {
     "iopub.execute_input": "2021-08-07T16:53:09.077971Z",
     "iopub.status.busy": "2021-08-07T16:53:09.077201Z",
     "iopub.status.idle": "2021-08-07T16:53:09.081165Z",
     "shell.execute_reply": "2021-08-07T16:53:09.080686Z",
     "shell.execute_reply.started": "2021-08-07T15:57:33.214743Z"
    },
    "papermill": {
     "duration": 0.199647,
     "end_time": "2021-08-07T16:53:09.081307",
     "exception": false,
     "start_time": "2021-08-07T16:53:08.881660",
     "status": "completed"
    },
    "tags": []
   },
   "outputs": [
    {
     "data": {
      "text/plain": [
       "0.5702792809993911"
      ]
     },
     "execution_count": 53,
     "metadata": {},
     "output_type": "execute_result"
    }
   ],
   "source": [
    "from sklearn.metrics import mean_squared_error,mean_absolute_error\n",
    "mean_squared_error(y_test,y_pred)\n"
   ]
  },
  {
   "cell_type": "markdown",
   "id": "3ffae34a",
   "metadata": {
    "papermill": {
     "duration": 0.191161,
     "end_time": "2021-08-07T16:53:09.461964",
     "exception": false,
     "start_time": "2021-08-07T16:53:09.270803",
     "status": "completed"
    },
    "tags": []
   },
   "source": [
    "**6. AdaBoostClassifier**"
   ]
  },
  {
   "cell_type": "code",
   "execution_count": 54,
   "id": "9565176e",
   "metadata": {
    "execution": {
     "iopub.execute_input": "2021-08-07T16:53:09.845884Z",
     "iopub.status.busy": "2021-08-07T16:53:09.844901Z",
     "iopub.status.idle": "2021-08-07T16:53:09.932355Z",
     "shell.execute_reply": "2021-08-07T16:53:09.931411Z",
     "shell.execute_reply.started": "2021-08-07T16:25:17.834165Z"
    },
    "papermill": {
     "duration": 0.282801,
     "end_time": "2021-08-07T16:53:09.932504",
     "exception": false,
     "start_time": "2021-08-07T16:53:09.649703",
     "status": "completed"
    },
    "tags": []
   },
   "outputs": [
    {
     "data": {
      "text/plain": [
       "AdaBoostClassifier()"
      ]
     },
     "execution_count": 54,
     "metadata": {},
     "output_type": "execute_result"
    }
   ],
   "source": [
    "from sklearn.ensemble import AdaBoostClassifier\n",
    "adb = AdaBoostClassifier(base_estimator = None)\n",
    "adb.fit(x_train,y_train)\n"
   ]
  },
  {
   "cell_type": "code",
   "execution_count": 55,
   "id": "be5a450f",
   "metadata": {
    "execution": {
     "iopub.execute_input": "2021-08-07T16:53:10.317662Z",
     "iopub.status.busy": "2021-08-07T16:53:10.316634Z",
     "iopub.status.idle": "2021-08-07T16:53:10.349655Z",
     "shell.execute_reply": "2021-08-07T16:53:10.350205Z",
     "shell.execute_reply.started": "2021-08-07T16:25:28.578608Z"
    },
    "papermill": {
     "duration": 0.228166,
     "end_time": "2021-08-07T16:53:10.350370",
     "exception": false,
     "start_time": "2021-08-07T16:53:10.122204",
     "status": "completed"
    },
    "tags": []
   },
   "outputs": [
    {
     "name": "stdout",
     "output_type": "stream",
     "text": [
      "Classification Report is:\n",
      "               precision    recall  f1-score   support\n",
      "\n",
      "          -1       0.50      0.06      0.11        34\n",
      "           0       0.56      0.14      0.23        63\n",
      "           1       0.54      0.95      0.69       103\n",
      "\n",
      "    accuracy                           0.55       200\n",
      "   macro avg       0.54      0.38      0.34       200\n",
      "weighted avg       0.54      0.55      0.45       200\n",
      "\n",
      "Confusion Matrix:\n",
      " [[ 2  2 30]\n",
      " [ 2  9 52]\n",
      " [ 0  5 98]]\n",
      "Training Score:\n",
      " 53.258145363408524\n"
     ]
    }
   ],
   "source": [
    "y_pred=adb.predict(x_test)\n",
    "from sklearn.metrics import accuracy_score,classification_report,confusion_matrix\n",
    "from sklearn.metrics import r2_score\n",
    "from sklearn.metrics import mean_squared_error\n",
    "print(\"Classification Report is:\\n\",classification_report(y_test,y_pred))\n",
    "print(\"Confusion Matrix:\\n\",confusion_matrix(y_test,y_pred))\n",
    "print(\"Training Score:\\n\",adb.score(x_train,y_train)*100)\n"
   ]
  },
  {
   "cell_type": "code",
   "execution_count": 56,
   "id": "16345c1d",
   "metadata": {
    "execution": {
     "iopub.execute_input": "2021-08-07T16:53:10.737798Z",
     "iopub.status.busy": "2021-08-07T16:53:10.737193Z",
     "iopub.status.idle": "2021-08-07T16:53:10.740929Z",
     "shell.execute_reply": "2021-08-07T16:53:10.741383Z",
     "shell.execute_reply.started": "2021-08-07T16:29:49.668196Z"
    },
    "papermill": {
     "duration": 0.203817,
     "end_time": "2021-08-07T16:53:10.741554",
     "exception": false,
     "start_time": "2021-08-07T16:53:10.537737",
     "status": "completed"
    },
    "tags": []
   },
   "outputs": [
    {
     "data": {
      "text/html": [
       "<div>\n",
       "<style scoped>\n",
       "    .dataframe tbody tr th:only-of-type {\n",
       "        vertical-align: middle;\n",
       "    }\n",
       "\n",
       "    .dataframe tbody tr th {\n",
       "        vertical-align: top;\n",
       "    }\n",
       "\n",
       "    .dataframe thead th {\n",
       "        text-align: right;\n",
       "    }\n",
       "</style>\n",
       "<table border=\"1\" class=\"dataframe\">\n",
       "  <thead>\n",
       "    <tr style=\"text-align: right;\">\n",
       "      <th></th>\n",
       "      <th>Actual</th>\n",
       "      <th>Predicted</th>\n",
       "    </tr>\n",
       "  </thead>\n",
       "  <tbody>\n",
       "    <tr>\n",
       "      <th>270</th>\n",
       "      <td>-1</td>\n",
       "      <td>1</td>\n",
       "    </tr>\n",
       "    <tr>\n",
       "      <th>727</th>\n",
       "      <td>-1</td>\n",
       "      <td>1</td>\n",
       "    </tr>\n",
       "    <tr>\n",
       "      <th>31</th>\n",
       "      <td>-1</td>\n",
       "      <td>1</td>\n",
       "    </tr>\n",
       "    <tr>\n",
       "      <th>342</th>\n",
       "      <td>1</td>\n",
       "      <td>1</td>\n",
       "    </tr>\n",
       "    <tr>\n",
       "      <th>606</th>\n",
       "      <td>1</td>\n",
       "      <td>1</td>\n",
       "    </tr>\n",
       "    <tr>\n",
       "      <th>...</th>\n",
       "      <td>...</td>\n",
       "      <td>...</td>\n",
       "    </tr>\n",
       "    <tr>\n",
       "      <th>937</th>\n",
       "      <td>0</td>\n",
       "      <td>1</td>\n",
       "    </tr>\n",
       "    <tr>\n",
       "      <th>624</th>\n",
       "      <td>1</td>\n",
       "      <td>1</td>\n",
       "    </tr>\n",
       "    <tr>\n",
       "      <th>255</th>\n",
       "      <td>-1</td>\n",
       "      <td>1</td>\n",
       "    </tr>\n",
       "    <tr>\n",
       "      <th>272</th>\n",
       "      <td>0</td>\n",
       "      <td>1</td>\n",
       "    </tr>\n",
       "    <tr>\n",
       "      <th>485</th>\n",
       "      <td>1</td>\n",
       "      <td>1</td>\n",
       "    </tr>\n",
       "  </tbody>\n",
       "</table>\n",
       "<p>200 rows × 2 columns</p>\n",
       "</div>"
      ],
      "text/plain": [
       "     Actual  Predicted\n",
       "270      -1          1\n",
       "727      -1          1\n",
       "31       -1          1\n",
       "342       1          1\n",
       "606       1          1\n",
       "..      ...        ...\n",
       "937       0          1\n",
       "624       1          1\n",
       "255      -1          1\n",
       "272       0          1\n",
       "485       1          1\n",
       "\n",
       "[200 rows x 2 columns]"
      ]
     },
     "execution_count": 56,
     "metadata": {},
     "output_type": "execute_result"
    }
   ],
   "source": [
    "data = pd.DataFrame({'Actual': y_test, 'Predicted': y_pred})\n",
    "data\n"
   ]
  },
  {
   "cell_type": "markdown",
   "id": "40b8cc71",
   "metadata": {
    "papermill": {
     "duration": 0.189098,
     "end_time": "2021-08-07T16:53:11.120765",
     "exception": false,
     "start_time": "2021-08-07T16:53:10.931667",
     "status": "completed"
    },
    "tags": []
   },
   "source": [
    "**CONCLUSION :**\n",
    "\n",
    "**ACCURACIES OF DIFFERENT MODELS ARE:**\n",
    "\n",
    "**KNeighbors Classifier= 60.02 %**\n",
    "\n",
    "**Naiye Bayes= 49.12 %**\n",
    "\n",
    "**Decision Tree Classifier= 56.8 %**\n",
    "\n",
    "**Random Forest Classifier= 99.87 %**\n",
    "\n",
    "**Logistic Regression : 62.27 %**\n",
    "\n",
    "**Ada Boost Classifier= 53.25 %**\n",
    "\n",
    "**We got a good accuracy of about 99.87 % using Random Forest Classifier which is quite well for the given dataset.**\n",
    "\n",
    "**The accuracy of other models can be increased further by HyperTuning.**\n",
    "\n",
    "\n",
    "\n"
   ]
  }
 ],
 "metadata": {
  "kernelspec": {
   "display_name": "Python 3",
   "language": "python",
   "name": "python3"
  },
  "language_info": {
   "codemirror_mode": {
    "name": "ipython",
    "version": 3
   },
   "file_extension": ".py",
   "mimetype": "text/x-python",
   "name": "python",
   "nbconvert_exporter": "python",
   "pygments_lexer": "ipython3",
   "version": "3.7.10"
  },
  "papermill": {
   "default_parameters": {},
   "duration": 52.832988,
   "end_time": "2021-08-07T16:53:13.810067",
   "environment_variables": {},
   "exception": null,
   "input_path": "__notebook__.ipynb",
   "output_path": "__notebook__.ipynb",
   "parameters": {},
   "start_time": "2021-08-07T16:52:20.977079",
   "version": "2.3.3"
  }
 },
 "nbformat": 4,
 "nbformat_minor": 5
}
